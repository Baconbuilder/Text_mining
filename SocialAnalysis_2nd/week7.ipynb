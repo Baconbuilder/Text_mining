{
 "cells": [
  {
   "cell_type": "markdown",
   "metadata": {},
   "source": [
    "### 分析目標\n",
    "- 資料內容：\n",
    "    - 資料來源：東森新聞\n",
    "    - 版別：財經、政治、國際、體育\n",
    "- 分析主題：將蘋果日報四個版別的文章合起來，訓練模型能預測新聞版別，再用分類模型進行文件的版別分類。"
   ]
  },
  {
   "cell_type": "markdown",
   "metadata": {},
   "source": [
    "### 1. 套件說明\n",
    "下面列出在本次實作過程中我們所使用到的相關套件，在這個Jupyter Notebook當中我們將會簡單的展示這些套件的使用方式，關於各個套件的進階使用請同學參照其官網的說明。\n",
    "\n",
    "- sklearn: 全名為Scikit-learn，機器學習的常用建模套件，包含各種分群、分類、迴歸模型，如隨機森林、SVM或 K-means 等。\n",
    "- pandas: 一個資料分析的函式庫，提供了DataFrame等資料格式，與資料處理的函數。\n",
    "- jieba: 結巴套件，中文斷詞套件\n",
    "- seaborn: 基於 matplotlib 封裝的繪圖工具"
   ]
  },
  {
   "cell_type": "code",
   "execution_count": 2,
   "metadata": {},
   "outputs": [],
   "source": [
    "import re\n",
    "from pprint import pprint\n",
    "\n",
    "import pandas as pd\n",
    "import numpy as np\n",
    "import matplotlib.pyplot as plt\n",
    "import seaborn as sns\n",
    "import jieba\n",
    "from sklearn.model_selection import train_test_split, cross_validate, cross_val_predict, KFold\n",
    "from sklearn.metrics import (\n",
    "    confusion_matrix,\n",
    "    classification_report,\n",
    "    roc_curve,\n",
    "    auc,\n",
    "    precision_recall_curve,\n",
    "    RocCurveDisplay\n",
    ")\n",
    "from sklearn.feature_extraction.text import TfidfVectorizer, CountVectorizer\n",
    "from sklearn.preprocessing import LabelBinarizer\n",
    "from sklearn.linear_model import LogisticRegression\n",
    "from sklearn.naive_bayes import GaussianNB\n",
    "from sklearn.tree import DecisionTreeClassifier, plot_tree\n",
    "from sklearn.ensemble import RandomForestClassifier\n",
    "from sklearn import svm"
   ]
  },
  {
   "cell_type": "markdown",
   "metadata": {},
   "source": [
    "設定中文字體"
   ]
  },
  {
   "cell_type": "code",
   "execution_count": 3,
   "metadata": {},
   "outputs": [],
   "source": [
    "plt.rcParams['font.sans-serif'] = ['Arial Unicode Ms']#使圖中中文能正常顯示\n",
    "plt.rcParams['axes.unicode_minus'] = False #使負號能夠顯示\n"
   ]
  },
  {
   "cell_type": "markdown",
   "metadata": {},
   "source": [
    "### 2. 文字前處理\n",
    "ebc_news.csv裡面包含了要分析東森新聞資料。\n",
    "\n",
    "- 版別：財經、政治、國際、體育\n",
    "- 時間範圍：2024/03/01 ~ 2024/04/04\n",
    "- 工作流程平台搜尋/排除關鍵字：無\n",
    "\n",
    "首先我們先看文集的基本資料，並做文集前處理。"
   ]
  },
  {
   "cell_type": "code",
   "execution_count": 6,
   "metadata": {},
   "outputs": [
    {
     "data": {
      "text/html": [
       "<div>\n",
       "<style scoped>\n",
       "    .dataframe tbody tr th:only-of-type {\n",
       "        vertical-align: middle;\n",
       "    }\n",
       "\n",
       "    .dataframe tbody tr th {\n",
       "        vertical-align: top;\n",
       "    }\n",
       "\n",
       "    .dataframe thead th {\n",
       "        text-align: right;\n",
       "    }\n",
       "</style>\n",
       "<table border=\"1\" class=\"dataframe\">\n",
       "  <thead>\n",
       "    <tr style=\"text-align: right;\">\n",
       "      <th></th>\n",
       "      <th>system_id</th>\n",
       "      <th>artTitle</th>\n",
       "      <th>artUrl</th>\n",
       "      <th>artDate</th>\n",
       "      <th>artCatagory</th>\n",
       "      <th>artContent</th>\n",
       "      <th>dataSource</th>\n",
       "    </tr>\n",
       "  </thead>\n",
       "  <tbody>\n",
       "    <tr>\n",
       "      <th>0</th>\n",
       "      <td>1</td>\n",
       "      <td>才喊話2年砍2萬人！花旗宣布「裁紐約286名員工」｜東森新聞</td>\n",
       "      <td>https://news.ebc.net.tw/news/article/407802</td>\n",
       "      <td>2024-03-01 13:40:00</td>\n",
       "      <td>財經</td>\n",
       "      <td>美國花旗集團日前才宣布，將在未來2年裁員2萬人，而根據該集團近日向美國勞工部（StateDe...</td>\n",
       "      <td>EBC</td>\n",
       "    </tr>\n",
       "    <tr>\n",
       "      <th>1</th>\n",
       "      <td>2</td>\n",
       "      <td>新／中鋼配0.35元 百萬股東哭了｜東森新聞</td>\n",
       "      <td>https://news.ebc.net.tw/news/article/407803</td>\n",
       "      <td>2024-03-01 12:41:00</td>\n",
       "      <td>財經</td>\n",
       "      <td>中鋼（2002）29日公布去年財報，112年度分配特別股股息每股現金1.4元及普通股紅利每股...</td>\n",
       "      <td>EBC</td>\n",
       "    </tr>\n",
       "    <tr>\n",
       "      <th>2</th>\n",
       "      <td>3</td>\n",
       "      <td>睡覺都有股票掉下來 達人曝挑個股2要件！｜東森新聞</td>\n",
       "      <td>https://news.ebc.net.tw/news/article/407835</td>\n",
       "      <td>2024-03-01 15:34:00</td>\n",
       "      <td>財經</td>\n",
       "      <td>投資人追求穩定的被動收入，不過，要是沒有足夠的本金，領到的股息也只能祭祭五臟廟；王仲麟認為，...</td>\n",
       "      <td>EBC</td>\n",
       "    </tr>\n",
       "  </tbody>\n",
       "</table>\n",
       "</div>"
      ],
      "text/plain": [
       "   system_id                        artTitle  \\\n",
       "0          1  才喊話2年砍2萬人！花旗宣布「裁紐約286名員工」｜東森新聞   \n",
       "1          2          新／中鋼配0.35元 百萬股東哭了｜東森新聞   \n",
       "2          3       睡覺都有股票掉下來 達人曝挑個股2要件！｜東森新聞   \n",
       "\n",
       "                                        artUrl              artDate  \\\n",
       "0  https://news.ebc.net.tw/news/article/407802  2024-03-01 13:40:00   \n",
       "1  https://news.ebc.net.tw/news/article/407803  2024-03-01 12:41:00   \n",
       "2  https://news.ebc.net.tw/news/article/407835  2024-03-01 15:34:00   \n",
       "\n",
       "  artCatagory                                         artContent dataSource  \n",
       "0          財經  美國花旗集團日前才宣布，將在未來2年裁員2萬人，而根據該集團近日向美國勞工部（StateDe...        EBC  \n",
       "1          財經  中鋼（2002）29日公布去年財報，112年度分配特別股股息每股現金1.4元及普通股紅利每股...        EBC  \n",
       "2          財經  投資人追求穩定的被動收入，不過，要是沒有足夠的本金，領到的股息也只能祭祭五臟廟；王仲麟認為，...        EBC  "
      ]
     },
     "execution_count": 6,
     "metadata": {},
     "output_type": "execute_result"
    }
   ],
   "source": [
    "apple = pd.read_csv(\"raw_data/ebc_news.csv\")  # 匯資料\n",
    "apple.head(3)"
   ]
  },
  {
   "cell_type": "code",
   "execution_count": 7,
   "metadata": {},
   "outputs": [
    {
     "name": "stdout",
     "output_type": "stream",
     "text": [
      "number of posts: 1333\n",
      "date range: ('2024-03-01 06:30:00', '2024-04-04 22:17:00')\n",
      "category: \n",
      "artCatagory\n",
      "國際    741\n",
      "政治    302\n",
      "財經    146\n",
      "體育    144\n",
      "Name: count, dtype: int64\n"
     ]
    }
   ],
   "source": [
    "# 看看有幾篇文章\n",
    "print(f\"number of posts: {apple.shape[0]}\")\n",
    "print(f\"date range: {(apple['artDate'].min(), apple['artDate'].max())}\")\n",
    "print(f\"category: \\n{apple['artCatagory'].value_counts()}\")"
   ]
  },
  {
   "cell_type": "markdown",
   "metadata": {},
   "source": [
    "### 2.1 斷句、斷詞（刪掉次數太少的、標點符號、停用字）"
   ]
  },
  {
   "cell_type": "markdown",
   "metadata": {},
   "source": [
    "### 2.1 清理"
   ]
  },
  {
   "cell_type": "markdown",
   "metadata": {},
   "source": [
    "利用問號、句號或驚嘆號等符號斷句，或是如果出現中文或是英文的省略號，像是...也會斷句，最後設定會去除結尾的空白符號。"
   ]
  },
  {
   "cell_type": "code",
   "execution_count": 8,
   "metadata": {},
   "outputs": [
    {
     "data": {
      "text/html": [
       "<div>\n",
       "<style scoped>\n",
       "    .dataframe tbody tr th:only-of-type {\n",
       "        vertical-align: middle;\n",
       "    }\n",
       "\n",
       "    .dataframe tbody tr th {\n",
       "        vertical-align: top;\n",
       "    }\n",
       "\n",
       "    .dataframe thead th {\n",
       "        text-align: right;\n",
       "    }\n",
       "</style>\n",
       "<table border=\"1\" class=\"dataframe\">\n",
       "  <thead>\n",
       "    <tr style=\"text-align: right;\">\n",
       "      <th></th>\n",
       "      <th>system_id</th>\n",
       "      <th>artTitle</th>\n",
       "      <th>artUrl</th>\n",
       "      <th>artDate</th>\n",
       "      <th>artCatagory</th>\n",
       "      <th>artContent</th>\n",
       "      <th>dataSource</th>\n",
       "    </tr>\n",
       "  </thead>\n",
       "  <tbody>\n",
       "    <tr>\n",
       "      <th>0</th>\n",
       "      <td>1</td>\n",
       "      <td>才喊話年砍萬人花旗宣布裁紐約名員工東森新聞</td>\n",
       "      <td>https://news.ebc.net.tw/news/article/407802</td>\n",
       "      <td>2024-03-01 13:40:00</td>\n",
       "      <td>財經</td>\n",
       "      <td>美國花旗集團日前才宣布將在未來年裁員萬人而根據該集團近日向美國勞工部提交的文件花旗集團將先在...</td>\n",
       "      <td>EBC</td>\n",
       "    </tr>\n",
       "    <tr>\n",
       "      <th>1</th>\n",
       "      <td>2</td>\n",
       "      <td>新中鋼配元百萬股東哭了東森新聞</td>\n",
       "      <td>https://news.ebc.net.tw/news/article/407803</td>\n",
       "      <td>2024-03-01 12:41:00</td>\n",
       "      <td>財經</td>\n",
       "      <td>中鋼日公布去年財報年度分配特別股股息每股現金元及普通股紅利每股現金元而如果以當日收盤元來看現...</td>\n",
       "      <td>EBC</td>\n",
       "    </tr>\n",
       "    <tr>\n",
       "      <th>2</th>\n",
       "      <td>3</td>\n",
       "      <td>睡覺都有股票掉下來達人曝挑個股要件東森新聞</td>\n",
       "      <td>https://news.ebc.net.tw/news/article/407835</td>\n",
       "      <td>2024-03-01 15:34:00</td>\n",
       "      <td>財經</td>\n",
       "      <td>投資人追求穩定的被動收入不過要是沒有足夠的本金領到的股息也只能祭祭五臟廟王仲麟認為想加速滾大...</td>\n",
       "      <td>EBC</td>\n",
       "    </tr>\n",
       "  </tbody>\n",
       "</table>\n",
       "</div>"
      ],
      "text/plain": [
       "   system_id               artTitle  \\\n",
       "0          1  才喊話年砍萬人花旗宣布裁紐約名員工東森新聞   \n",
       "1          2        新中鋼配元百萬股東哭了東森新聞   \n",
       "2          3  睡覺都有股票掉下來達人曝挑個股要件東森新聞   \n",
       "\n",
       "                                        artUrl              artDate  \\\n",
       "0  https://news.ebc.net.tw/news/article/407802  2024-03-01 13:40:00   \n",
       "1  https://news.ebc.net.tw/news/article/407803  2024-03-01 12:41:00   \n",
       "2  https://news.ebc.net.tw/news/article/407835  2024-03-01 15:34:00   \n",
       "\n",
       "  artCatagory                                         artContent dataSource  \n",
       "0          財經  美國花旗集團日前才宣布將在未來年裁員萬人而根據該集團近日向美國勞工部提交的文件花旗集團將先在...        EBC  \n",
       "1          財經  中鋼日公布去年財報年度分配特別股股息每股現金元及普通股紅利每股現金元而如果以當日收盤元來看現...        EBC  \n",
       "2          財經  投資人追求穩定的被動收入不過要是沒有足夠的本金領到的股息也只能祭祭五臟廟王仲麟認為想加速滾大...        EBC  "
      ]
     },
     "execution_count": 8,
     "metadata": {},
     "output_type": "execute_result"
    }
   ],
   "source": [
    "# 過濾 nan 的資料\n",
    "apple= apple.dropna(subset=['artTitle'])\n",
    "apple = apple.dropna(subset=['artContent'])\n",
    "# 移除網址格式\n",
    "apple[\"artContent\"] = apple.artContent.apply(\n",
    "    lambda x: re.sub(\"(http|https)://.*\", \"\", x)\n",
    ")\n",
    "apple[\"artTitle\"] = apple[\"artTitle\"].apply(\n",
    "    lambda x: re.sub(\"(http|https)://.*\", \"\", x)\n",
    ")\n",
    "# 只留下中文字\n",
    "apple[\"artContent\"] = apple.artContent.apply(\n",
    "    lambda x: re.sub(\"[^\\u4e00-\\u9fa5]+\", \"\", x)\n",
    ")\n",
    "apple[\"artTitle\"] = apple[\"artTitle\"].apply(\n",
    "    lambda x: re.sub(\"[^\\u4e00-\\u9fa5]+\", \"\", x)\n",
    ")\n",
    "apple.head(3)"
   ]
  },
  {
   "cell_type": "markdown",
   "metadata": {},
   "source": [
    "文章的標題artTitle和內文sentence都會納入分析的內容，成為新的content欄位。"
   ]
  },
  {
   "cell_type": "code",
   "execution_count": 9,
   "metadata": {},
   "outputs": [
    {
     "data": {
      "text/html": [
       "<div>\n",
       "<style scoped>\n",
       "    .dataframe tbody tr th:only-of-type {\n",
       "        vertical-align: middle;\n",
       "    }\n",
       "\n",
       "    .dataframe tbody tr th {\n",
       "        vertical-align: top;\n",
       "    }\n",
       "\n",
       "    .dataframe thead th {\n",
       "        text-align: right;\n",
       "    }\n",
       "</style>\n",
       "<table border=\"1\" class=\"dataframe\">\n",
       "  <thead>\n",
       "    <tr style=\"text-align: right;\">\n",
       "      <th></th>\n",
       "      <th>content</th>\n",
       "      <th>artUrl</th>\n",
       "      <th>artCatagory</th>\n",
       "    </tr>\n",
       "  </thead>\n",
       "  <tbody>\n",
       "    <tr>\n",
       "      <th>0</th>\n",
       "      <td>才喊話年砍萬人花旗宣布裁紐約名員工東森新聞美國花旗集團日前才宣布將在未來年裁員萬人而根據該集...</td>\n",
       "      <td>https://news.ebc.net.tw/news/article/407802</td>\n",
       "      <td>財經</td>\n",
       "    </tr>\n",
       "    <tr>\n",
       "      <th>1</th>\n",
       "      <td>新中鋼配元百萬股東哭了東森新聞中鋼日公布去年財報年度分配特別股股息每股現金元及普通股紅利每股...</td>\n",
       "      <td>https://news.ebc.net.tw/news/article/407803</td>\n",
       "      <td>財經</td>\n",
       "    </tr>\n",
       "    <tr>\n",
       "      <th>2</th>\n",
       "      <td>睡覺都有股票掉下來達人曝挑個股要件東森新聞投資人追求穩定的被動收入不過要是沒有足夠的本金領到...</td>\n",
       "      <td>https://news.ebc.net.tw/news/article/407835</td>\n",
       "      <td>財經</td>\n",
       "    </tr>\n",
       "    <tr>\n",
       "      <th>3</th>\n",
       "      <td>房市虛坪改革上膛政院拋兩策略喊公設可降東森新聞內政部最新祭出虛坪改革兩大方案將會從停車空間管...</td>\n",
       "      <td>https://news.ebc.net.tw/news/article/407854</td>\n",
       "      <td>財經</td>\n",
       "    </tr>\n",
       "    <tr>\n",
       "      <th>4</th>\n",
       "      <td>萬股東哭哭中鋼配息元三年新低東森新聞被外界號稱是被鋼鐵耽誤的紀念品公司中鋼每年的股東會紀念品...</td>\n",
       "      <td>https://news.ebc.net.tw/news/article/407864</td>\n",
       "      <td>財經</td>\n",
       "    </tr>\n",
       "  </tbody>\n",
       "</table>\n",
       "</div>"
      ],
      "text/plain": [
       "                                             content  \\\n",
       "0  才喊話年砍萬人花旗宣布裁紐約名員工東森新聞美國花旗集團日前才宣布將在未來年裁員萬人而根據該集...   \n",
       "1  新中鋼配元百萬股東哭了東森新聞中鋼日公布去年財報年度分配特別股股息每股現金元及普通股紅利每股...   \n",
       "2  睡覺都有股票掉下來達人曝挑個股要件東森新聞投資人追求穩定的被動收入不過要是沒有足夠的本金領到...   \n",
       "3  房市虛坪改革上膛政院拋兩策略喊公設可降東森新聞內政部最新祭出虛坪改革兩大方案將會從停車空間管...   \n",
       "4  萬股東哭哭中鋼配息元三年新低東森新聞被外界號稱是被鋼鐵耽誤的紀念品公司中鋼每年的股東會紀念品...   \n",
       "\n",
       "                                        artUrl artCatagory  \n",
       "0  https://news.ebc.net.tw/news/article/407802          財經  \n",
       "1  https://news.ebc.net.tw/news/article/407803          財經  \n",
       "2  https://news.ebc.net.tw/news/article/407835          財經  \n",
       "3  https://news.ebc.net.tw/news/article/407854          財經  \n",
       "4  https://news.ebc.net.tw/news/article/407864          財經  "
      ]
     },
     "execution_count": 9,
     "metadata": {},
     "output_type": "execute_result"
    }
   ],
   "source": [
    "# 留下 content\n",
    "apple[\"content\"] = apple[\"artTitle\"] + apple[\"artContent\"]\n",
    "apple = apple[[\"content\", \"artUrl\", \"artCatagory\"]]  # 文章內容 文章連結\n",
    "apple.head()"
   ]
  },
  {
   "cell_type": "code",
   "execution_count": 10,
   "metadata": {},
   "outputs": [
    {
     "name": "stdout",
     "output_type": "stream",
     "text": [
      "total docs: 1333\n"
     ]
    }
   ],
   "source": [
    "# 看看有幾篇文章\n",
    "print(f\"total docs: {apple.shape[0]}\")"
   ]
  },
  {
   "cell_type": "markdown",
   "metadata": {},
   "source": [
    "### 2.2 斷詞"
   ]
  },
  {
   "cell_type": "code",
   "execution_count": 11,
   "metadata": {},
   "outputs": [],
   "source": [
    "# 設定繁體中文詞庫\n",
    "jieba.set_dictionary(\"./dict/dict.txt\")\n",
    "\n",
    "# 新增stopwords\n",
    "# jieba.analyse.set_stop_words('./dict/stop_words.txt') #jieba.analyse.extract_tags才會作用\n",
    "with open(\"./dict/stopwords.txt\", encoding=\"utf-8\") as f:\n",
    "    stopWords = [line.strip() for line in f.readlines()]"
   ]
  },
  {
   "cell_type": "code",
   "execution_count": 12,
   "metadata": {},
   "outputs": [],
   "source": [
    "# 設定斷詞 function\n",
    "def getToken(row):\n",
    "    seg_list = jieba.cut(row, cut_all=False)\n",
    "    seg_list = [\n",
    "        w for w in seg_list if w not in stopWords and len(w) > 1\n",
    "    ]  # 篩選掉停用字與字元數大於1的詞彙\n",
    "    return seg_list"
   ]
  },
  {
   "cell_type": "code",
   "execution_count": 13,
   "metadata": {},
   "outputs": [
    {
     "name": "stderr",
     "output_type": "stream",
     "text": [
      "Building prefix dict from /Users/wuanjie/Desktop/NLP/SocialAnalysis_2nd/dict/dict.txt ...\n"
     ]
    },
    {
     "name": "stderr",
     "output_type": "stream",
     "text": [
      "Dumping model to file cache /var/folders/bd/hbhq4wsn28d9hg6673m4blg00000gn/T/jieba.u838ae815cfd34ee3f709b81df81421fa.cache\n",
      "Loading model cost 2.412 seconds.\n",
      "Prefix dict has been built successfully.\n"
     ]
    },
    {
     "data": {
      "text/html": [
       "<div>\n",
       "<style scoped>\n",
       "    .dataframe tbody tr th:only-of-type {\n",
       "        vertical-align: middle;\n",
       "    }\n",
       "\n",
       "    .dataframe tbody tr th {\n",
       "        vertical-align: top;\n",
       "    }\n",
       "\n",
       "    .dataframe thead th {\n",
       "        text-align: right;\n",
       "    }\n",
       "</style>\n",
       "<table border=\"1\" class=\"dataframe\">\n",
       "  <thead>\n",
       "    <tr style=\"text-align: right;\">\n",
       "      <th></th>\n",
       "      <th>content</th>\n",
       "      <th>artUrl</th>\n",
       "      <th>artCatagory</th>\n",
       "      <th>words</th>\n",
       "    </tr>\n",
       "  </thead>\n",
       "  <tbody>\n",
       "    <tr>\n",
       "      <th>0</th>\n",
       "      <td>才喊話年砍萬人花旗宣布裁紐約名員工東森新聞美國花旗集團日前才宣布將在未來年裁員萬人而根據該集...</td>\n",
       "      <td>https://news.ebc.net.tw/news/article/407802</td>\n",
       "      <td>財經</td>\n",
       "      <td>喊話 萬人 花旗 宣布 紐約 員工 東森 新聞 美國 花旗 集團 日前 宣布 將在 未來 裁...</td>\n",
       "    </tr>\n",
       "    <tr>\n",
       "      <th>1</th>\n",
       "      <td>新中鋼配元百萬股東哭了東森新聞中鋼日公布去年財報年度分配特別股股息每股現金元及普通股紅利每股...</td>\n",
       "      <td>https://news.ebc.net.tw/news/article/407803</td>\n",
       "      <td>財經</td>\n",
       "      <td>中鋼 配元百萬 股東 東森 新聞 中鋼 公布 去年 財報 年度 分配 特別股 股息 每股 現...</td>\n",
       "    </tr>\n",
       "    <tr>\n",
       "      <th>2</th>\n",
       "      <td>睡覺都有股票掉下來達人曝挑個股要件東森新聞投資人追求穩定的被動收入不過要是沒有足夠的本金領到...</td>\n",
       "      <td>https://news.ebc.net.tw/news/article/407835</td>\n",
       "      <td>財經</td>\n",
       "      <td>睡覺 股票 掉下來 達人 曝挑 個股 要件 東森 新聞 投資人 追求 穩定 被動 收入 足夠...</td>\n",
       "    </tr>\n",
       "    <tr>\n",
       "      <th>3</th>\n",
       "      <td>房市虛坪改革上膛政院拋兩策略喊公設可降東森新聞內政部最新祭出虛坪改革兩大方案將會從停車空間管...</td>\n",
       "      <td>https://news.ebc.net.tw/news/article/407854</td>\n",
       "      <td>財經</td>\n",
       "      <td>房市 虛坪 改革 上膛 政院 拋兩 策略 公設 可降 東森 新聞 內政部 祭出 虛坪 改革 ...</td>\n",
       "    </tr>\n",
       "    <tr>\n",
       "      <th>4</th>\n",
       "      <td>萬股東哭哭中鋼配息元三年新低東森新聞被外界號稱是被鋼鐵耽誤的紀念品公司中鋼每年的股東會紀念品...</td>\n",
       "      <td>https://news.ebc.net.tw/news/article/407864</td>\n",
       "      <td>財經</td>\n",
       "      <td>股東 哭哭 中鋼 配息 三年 新低 東森 新聞 外界 號稱 鋼鐵 耽誤 紀念品 公司 中鋼 ...</td>\n",
       "    </tr>\n",
       "  </tbody>\n",
       "</table>\n",
       "</div>"
      ],
      "text/plain": [
       "                                             content  \\\n",
       "0  才喊話年砍萬人花旗宣布裁紐約名員工東森新聞美國花旗集團日前才宣布將在未來年裁員萬人而根據該集...   \n",
       "1  新中鋼配元百萬股東哭了東森新聞中鋼日公布去年財報年度分配特別股股息每股現金元及普通股紅利每股...   \n",
       "2  睡覺都有股票掉下來達人曝挑個股要件東森新聞投資人追求穩定的被動收入不過要是沒有足夠的本金領到...   \n",
       "3  房市虛坪改革上膛政院拋兩策略喊公設可降東森新聞內政部最新祭出虛坪改革兩大方案將會從停車空間管...   \n",
       "4  萬股東哭哭中鋼配息元三年新低東森新聞被外界號稱是被鋼鐵耽誤的紀念品公司中鋼每年的股東會紀念品...   \n",
       "\n",
       "                                        artUrl artCatagory  \\\n",
       "0  https://news.ebc.net.tw/news/article/407802          財經   \n",
       "1  https://news.ebc.net.tw/news/article/407803          財經   \n",
       "2  https://news.ebc.net.tw/news/article/407835          財經   \n",
       "3  https://news.ebc.net.tw/news/article/407854          財經   \n",
       "4  https://news.ebc.net.tw/news/article/407864          財經   \n",
       "\n",
       "                                               words  \n",
       "0  喊話 萬人 花旗 宣布 紐約 員工 東森 新聞 美國 花旗 集團 日前 宣布 將在 未來 裁...  \n",
       "1  中鋼 配元百萬 股東 東森 新聞 中鋼 公布 去年 財報 年度 分配 特別股 股息 每股 現...  \n",
       "2  睡覺 股票 掉下來 達人 曝挑 個股 要件 東森 新聞 投資人 追求 穩定 被動 收入 足夠...  \n",
       "3  房市 虛坪 改革 上膛 政院 拋兩 策略 公設 可降 東森 新聞 內政部 祭出 虛坪 改革 ...  \n",
       "4  股東 哭哭 中鋼 配息 三年 新低 東森 新聞 外界 號稱 鋼鐵 耽誤 紀念品 公司 中鋼 ...  "
      ]
     },
     "execution_count": 13,
     "metadata": {},
     "output_type": "execute_result"
    }
   ],
   "source": [
    "apple[\"words\"] = apple[\"content\"].apply(getToken).map(\" \".join)\n",
    "apple.head()"
   ]
  },
  {
   "cell_type": "markdown",
   "metadata": {},
   "source": [
    "### 2.3 資料集基本檢視"
   ]
  },
  {
   "cell_type": "code",
   "execution_count": 14,
   "metadata": {},
   "outputs": [
    {
     "name": "stdout",
     "output_type": "stream",
     "text": [
      "total posts: 1333\n",
      "category: \n",
      "artCatagory\n",
      "國際    741\n",
      "政治    302\n",
      "財經    146\n",
      "體育    144\n",
      "Name: count, dtype: int64\n"
     ]
    }
   ],
   "source": [
    "print(f\"total posts: {len(apple['artUrl'].unique())}\")\n",
    "print(f\"category: \\n{apple['artCatagory'].value_counts()}\")"
   ]
  },
  {
   "cell_type": "markdown",
   "metadata": {},
   "source": [
    "### 3. 分類模型的訓練流程\n",
    "### 3.1 根據7:3的比例切分資料集"
   ]
  },
  {
   "cell_type": "markdown",
   "metadata": {},
   "source": [
    "利用 sklearn 中的 train_test_split 函數將 raw_data 隨機切成 7:3，設置 random_state 讓每次切分的結果一致。y_train和y_test分別為訓練資料和測試資料的預測目標。"
   ]
  },
  {
   "cell_type": "code",
   "execution_count": 15,
   "metadata": {},
   "outputs": [
    {
     "name": "stdout",
     "output_type": "stream",
     "text": [
      "268     國民黨 推第二波 改革 朱立倫 智庫 年輕 輕量 造化 東森 新聞 青年 想法 引進 智庫 ...\n",
      "411     綠營 大老 不忍 林光華 北台 全軍覆沒 總統 凝重 東森 新聞 大選 政壇 焦點 鎖定 立...\n",
      "641     重機 網美 印度 性侵 毆打 驚悚 過程 東森 新聞 印度 日前 發生 震驚 事件 一名 西...\n",
      "1082    股票 帳戶 突多 夫妻 得知 真相 失望 東森 新聞 投資 股票 致富 承擔 背後 風險 蘇...\n",
      "672     厄瓜多 動物 海島 天堂 火山 爆發 威脅 獨特 野生 動物 東森 新聞 南美洲 國家 厄瓜...\n",
      "Name: words, dtype: object\n",
      "268     政治\n",
      "411     政治\n",
      "641     國際\n",
      "1082    國際\n",
      "672     國際\n",
      "Name: artCatagory, dtype: object\n"
     ]
    }
   ],
   "source": [
    "data = apple\n",
    "X = data[\"words\"]\n",
    "y = data[\"artCatagory\"]\n",
    "\n",
    "# 把整個資料集七三切\n",
    "X_train, X_test, y_train, y_test = train_test_split(\n",
    "    X, y, test_size=0.3, random_state=777\n",
    ")\n",
    "\n",
    "print(X_train.head())\n",
    "print(y_train.head())"
   ]
  },
  {
   "cell_type": "code",
   "execution_count": 16,
   "metadata": {},
   "outputs": [
    {
     "name": "stdout",
     "output_type": "stream",
     "text": [
      "raw data percentage :\n",
      "artCatagory\n",
      "國際    55.588897\n",
      "政治    22.655664\n",
      "財經    10.952738\n",
      "體育    10.802701\n",
      "Name: proportion, dtype: float64\n",
      "\n",
      "train percentage :\n",
      "artCatagory\n",
      "國際    54.662379\n",
      "政治    23.794212\n",
      "財經    10.932476\n",
      "體育    10.610932\n",
      "Name: proportion, dtype: float64\n",
      "\n",
      "test percentage :\n",
      "artCatagory\n",
      "國際    57.75\n",
      "政治    20.00\n",
      "體育    11.25\n",
      "財經    11.00\n",
      "Name: proportion, dtype: float64\n"
     ]
    }
   ],
   "source": [
    "# 看一下各個資料集切分的比例，應該要一致\n",
    "print(\n",
    "    f\"raw data percentage :\\n{data['artCatagory'].value_counts(normalize=True) * 100}\"\n",
    ")\n",
    "print(f\"\\ntrain percentage :\\n{y_train.value_counts(normalize=True) * 100}\")\n",
    "print(f\"\\ntest percentage :\\n{y_test.value_counts(normalize=True) * 100}\")"
   ]
  },
  {
   "cell_type": "markdown",
   "metadata": {},
   "source": [
    "### 3.2 將文章轉為 DTM"
   ]
  },
  {
   "cell_type": "markdown",
   "metadata": {},
   "source": [
    "DTM(document term matrix) :\n",
    "\n",
    "- 將不同的文章 (document) 以文章中出現過的字詞(term)表示\n",
    "    - row 是document (文件)\n",
    "    - column 是字詞 (term)\n",
    "    - row 內的數字是出現的字數\n",
    "\n",
    "DTM裡面的值可以有不同的表示方法\n",
    "- (1) 依據詞頻 (classic BoW)\n",
    "    - 用 CountVectorizer()\n",
    "    - unigrams and bigrams\n",
    "    - sklearn.feature_extraction.text.CountVectorizer\n",
    "\n",
    "- (2) 依據tfidf (advanced variant of BoW)\n",
    "    - 篩選出現次數大於10的字\n",
    "    - 用 TfidfVectorizer()\n",
    "    - sklearn.feature_extraction.text.TfidfVectorizer\n",
    "\n",
    "- 常用參數介紹\n",
    "    - max_features: 取 詞頻 / tfidf 前多少的字"
   ]
  },
  {
   "cell_type": "markdown",
   "metadata": {},
   "source": [
    "### 3.3 套入正式的資料集"
   ]
  },
  {
   "cell_type": "markdown",
   "metadata": {},
   "source": [
    "- 模型訓練範例: logistic regression + cv tokenizer"
   ]
  },
  {
   "cell_type": "code",
   "execution_count": 17,
   "metadata": {},
   "outputs": [
    {
     "name": "stdout",
     "output_type": "stream",
     "text": [
      "CountVectorizer(max_features=1000)\n"
     ]
    }
   ],
   "source": [
    "vectorizer = CountVectorizer(max_features=1000)\n",
    "print(vectorizer)"
   ]
  },
  {
   "cell_type": "code",
   "execution_count": 18,
   "metadata": {},
   "outputs": [
    {
     "data": {
      "text/plain": [
       "268     國民黨 推第二波 改革 朱立倫 智庫 年輕 輕量 造化 東森 新聞 青年 想法 引進 智庫 ...\n",
       "411     綠營 大老 不忍 林光華 北台 全軍覆沒 總統 凝重 東森 新聞 大選 政壇 焦點 鎖定 立...\n",
       "641     重機 網美 印度 性侵 毆打 驚悚 過程 東森 新聞 印度 日前 發生 震驚 事件 一名 西...\n",
       "1082    股票 帳戶 突多 夫妻 得知 真相 失望 東森 新聞 投資 股票 致富 承擔 背後 風險 蘇...\n",
       "672     厄瓜多 動物 海島 天堂 火山 爆發 威脅 獨特 野生 動物 東森 新聞 南美洲 國家 厄瓜...\n",
       "Name: words, dtype: object"
      ]
     },
     "execution_count": 18,
     "metadata": {},
     "output_type": "execute_result"
    }
   ],
   "source": [
    "X_train.head()"
   ]
  },
  {
   "cell_type": "code",
   "execution_count": 19,
   "metadata": {},
   "outputs": [
    {
     "data": {
      "text/plain": [
       "<933x1000 sparse matrix of type '<class 'numpy.int64'>'\n",
       "\twith 44087 stored elements in Compressed Sparse Row format>"
      ]
     },
     "execution_count": 19,
     "metadata": {},
     "output_type": "execute_result"
    }
   ],
   "source": [
    "vectorizer.fit(X_train)\n",
    "vec_train = vectorizer.transform(X_train)\n",
    "vec_train"
   ]
  },
  {
   "cell_type": "code",
   "execution_count": 20,
   "metadata": {},
   "outputs": [
    {
     "data": {
      "text/plain": [
       "array([[0, 0, 0, ..., 0, 4, 2],\n",
       "       [0, 0, 0, ..., 0, 0, 0],\n",
       "       [0, 0, 2, ..., 0, 0, 0],\n",
       "       ...,\n",
       "       [0, 0, 0, ..., 0, 0, 0],\n",
       "       [0, 0, 0, ..., 0, 0, 0],\n",
       "       [0, 0, 0, ..., 0, 0, 0]])"
      ]
     },
     "execution_count": 20,
     "metadata": {},
     "output_type": "execute_result"
    }
   ],
   "source": [
    "### 用 `toarray()` 轉成 numpy array\n",
    "vec_train.toarray()"
   ]
  },
  {
   "cell_type": "code",
   "execution_count": 21,
   "metadata": {},
   "outputs": [
    {
     "name": "stdout",
     "output_type": "stream",
     "text": [
      "['一下' '一位' '一名' '一場' '一天' '一平' '一年' '一度' '一張' '一次']\n"
     ]
    }
   ],
   "source": [
    "# 可用 `fit_transform()` 一次完成\n",
    "vec_train = vectorizer.fit_transform(X_train)\n",
    "print(vectorizer.get_feature_names_out()[:10])"
   ]
  },
  {
   "cell_type": "code",
   "execution_count": 22,
   "metadata": {},
   "outputs": [
    {
     "name": "stdout",
     "output_type": "stream",
     "text": [
      "{'國民黨': 226, '改革': 448, '朱立倫': 504, '年輕': 348, '東森': 507, '新聞': 461, '所謂': 398, '組織': 703, '則是': 136, '地方': 235, '國會': 225, '完全': 293, '議題': 831, '主席': 41, '立法院': 687, '黨團': 999, '能夠': 753, '月號': 494, '召開': 177, '推動': 430, '呼籲': 204, '中央': 35, '立委': 685, '參與': 169, '長期': 930, '認為': 816, '進一步': 889, '機構': 523, '黨主席': 998, '積極': 677, '合作': 193, '外界': 256, '全國': 101, '北市': 153, '市長': 340, '工作': 334, '正在': 532, '綠營': 713, '總統': 722, '大選': 267, '焦點': 587, '表現': 785, '藍綠': 774, '選舉': 905, '紛紛': 701, '加強': 144, '民進黨': 549, '共同': 116, '董事長': 768, '台灣': 184, '檢討': 527, '蔡英文': 769, '專業': 313, '部分': 911, '包含': 150, '方面': 465, '希望': 341, '女性': 278, '力量': 141, '繼續': 724, '經營': 709, '負責': 833, '現在': 609, '相關': 659, '關係': 935, '問題': 210, '協助': 159, '解決': 800, '包括': 151, '安排': 292, '立法院長': 688, '韓國': 962, '院長': 941, '相信': 658, '想要': 378, '成為': 389, '近期': 868, '邀請': 908, '助理': 146, '參加': 168, '亞洲': 53, '規劃': 795, '民眾': 547, '印度': 163, '過程': 897, '日前': 470, '發生': 647, '震驚': 957, '事件': 48, '一名': 2, '丈夫': 18, '旅遊': 467, '男子': 629, '襲擊': 792, '導致': 319, '兩人': 104, '這場': 877, '恐怖': 371, '引起': 356, '警方': 827, '目前': 654, '逮捕': 887, '嫌犯': 285, '外媒': 255, '報導': 248, '擁有': 438, '粉絲': 695, '女子': 276, '影片': 360, '表示': 786, '據了解': 441, '計劃': 802, '前往': 137, '東西': 508, '路邊': 855, '發現': 646, '似乎': 71, '雙方': 949, '需要': 955, '治療': 555, '醫院': 920, '醫生': 918, '透露': 871, '立即': 683, '成立': 390, '特別': 600, '調查': 820, '這起': 880, '網友': 716, '媒體': 283, '社會': 671, '感到': 380, '議員': 829, '部長': 912, '願意': 968, '法律': 557, '應對': 385, '採取': 425, '措施': 431, '股票': 751, '帳戶': 342, '得知': 365, '真相': 662, '投資': 409, '風險': 972, '資金': 843, '身分': 857, '維持': 714, '幾個': 350, '小時': 323, '妻子': 279, '孩子': 287, '全球': 102, '公司': 110, '時間': 478, '早上': 474, '新台幣': 460, '坦言': 239, '看到': 660, '考慮': 737, '聽到': 748, '上漲': 22, '還在': 909, '確定': 668, '聯絡': 742, '位置': 73, '知道': 665, '唯一': 208, '一場': 3, '指出': 417, '人員': 57, '金額': 927, '回到': 216, '左右': 335, '對此': 316, '發言人': 650, '解釋': 801, '收到': 446, '基金': 245, '價格': 91, '數據': 456, '存在': 286, '系統': 697, '出現': 128, '客戶': 298, '造成': 885, '影響': 361, '文章': 457, '來源': 79, '授權': 422, '轉載': 862, '動物': 149, '爆發': 593, '威脅': 282, '國家': 224, '今日': 65, '傳出': 88, '引發': 355, '單位': 214, '觀察': 798, '狀況': 604, '位於': 72, '面積': 960, '公里': 114, '發出': 642, '聲明': 744, '透過': 870, '檢測': 526, '官方': 296, '活動': 563, '距離': 853, '規模': 797, '一種': 12, '曾經': 486, '啦啦隊': 212, '樂天': 520, '女孩': 277, '日本': 473, '進行': 892, '連續': 886, '動作': 148, '再度': 120, '屬於': 332, '這段': 878, '開心': 933, '剛剛': 139, '飛機': 974, '大谷': 265, '合照': 194, '國際': 232, '原來': 165, '大谷翔平': 266, '結婚': 704, '接受': 427, '送醫': 869, '主播': 42, '結束': 705, '利率': 133, '台幣': 182, '銀行': 928, '央行': 272, '政策': 453, '首度': 980, '升息': 157, '便宜': 80, '日圓': 471, '增加': 251, '超過': 849, '成本': 388, '交通': 56, '費用': 838, '尤其': 327, '來到': 78, '關鍵': 937, '美國': 727, '降息': 939, '今年': 64, '之後': 44, '機會': 522, '態度': 384, '專家': 311, '挑戰': 420, '政府': 451, '最高': 491, '公布': 113, '賴清德': 846, '將在': 309, '人選': 62, '關注': 936, '消息': 571, '人士': 58, '週刊': 888, '行政院': 779, '總統府': 723, '並未': 32, '團隊': 233, '回應': 218, '預計': 967, '今天': 63, '下午': 23, '國防部': 230, '國防部長': 231, '邱國正': 910, '重要': 922, '官員': 295, '國安': 223, '成員': 387, '氣氛': 550, '一次': 9, '主委': 40, '中國': 34, '漁船': 580, '翻覆': 731, '管碧玲': 694, '立院': 689, '金門': 926, '事發': 52, '委員會': 281, '專案': 312, '報告': 247, '藍營': 773, '痛批': 640, '強調': 358, '要求': 793, '公開': 115, '道歉': 900, '我國': 392, '限制': 940, '海域': 567, '海上': 564, '展開': 331, '目擊': 655, '出動': 125, '兩岸': 106, '高度': 988, '書面': 485, '事故': 51, '尊重': 314, '這一': 872, '吳思瑤': 200, '調整': 819, '議事': 828, '理由': 618, '衝突': 784, '釐清': 923, '食安': 976, '電價': 952, '調漲': 821, '食品': 975, '醫療': 919, '朝野': 499, '萬人': 766, '近日': 867, '有名': 495, '外國': 254, '並在': 31, '分享': 130, '網路': 718, '吸引': 201, '台灣人': 185, '世界': 30, '留言': 631, '中共': 33, '兩會': 107, '情勢': 375, '台海': 183, '緊張': 719, '持續': 416, '徐巧芯': 364, '風波': 971, '質詢': 845, '確實': 669, '排除': 424, '有沒有': 496, '了解': 47, '大陸': 269, '期間': 501, '這名': 876, '對象': 318, '因素': 220, '提出': 433, '嚴重': 215, '最近': 490, '每天': 542, '回答': 219, '方式': 464, '友人': 170, '討論': 805, '顯示': 969, '改變': 447, '兄弟': 95, '中職': 37, '出爐': 127, '加入': 142, '中心': 36, '球隊': 617, '台北': 179, '大巨蛋': 260, '身體': 858, '比賽': 545, '球迷': 616, '原因': 166, '過去': 896, '球員': 613, '聯盟': 741, '人氣': 61, '壓力': 252, '感覺': 382, '寶林': 308, '情況': 376, '大規模': 264, '案例': 514, '生命': 621, '評估': 812, '手術': 400, '內部': 100, '員工': 207, '台北市長': 181, '蔣萬安': 770, '昨天': 476, '台北市': 180, '疑似': 637, '食物': 977, '案件': 513, '裡面': 789, '醫師': 917, '受害': 175, '經濟': 708, '遭到': 902, '後續': 363, '說明': 817, '東京': 506, '責任': 835, '環境': 620, '未來': 502, '檢驗': 528, '宣布': 300, '正式': 534, '去年': 167, '記者會': 808, '執行': 241, '告訴': 202, '律師': 362, '宣告': 299, '終於': 702, '分析': 131, '突然': 681, '出面': 129, '法院': 559, '權益': 530, '一年': 6, '選擇': 904, '獲得': 605, '內容': 99, '難以': 951, '報案': 249, '處理': 776, '面臨': 961, '緊急': 720, '最終': 489, '決定': 552, '延燒': 352, '考量': 738, '下去': 24, '成功': 386, '爭議': 595, '爭取': 594, '能力': 752, '翻譯': 732, '職棒': 747, '大聯盟': 263, '洛杉磯': 562, '道奇': 898, '球星': 615, '水原': 551, '一平': 5, '之間': 45, '路透社': 854, '指控': 418, '一直': 11, '資訊': 842, '程序': 675, '使用': 77, '聯邦': 743, '運動': 895, '無法': 586, '配合': 915, '高中': 987, '面對': 959, '準備': 579, '對手': 315, '最後': 488, '陷入': 944, '擴大': 442, '一度': 7, '歷史': 536, '男童': 630, '父母': 596, '兒子': 98, '遺體': 906, '事實': 49, '當年': 635, '家屬': 302, '報警': 250, '沒想到': 554, '不斷': 27, '人民幣': 60, '集團': 948, '曝光': 483, '執行長': 242, '身亡': 856, '各界': 192, '德州': 367, '設施': 810, '晚間': 480, '點分': 997, '離開': 950, '天氣': 270, '電話': 953, '意外': 379, '快速': 370, '現場': 610, '救援': 454, '消防': 574, '抵達': 412, '分鐘': 132, '到場': 135, '一輛': 14, '順利': 964, '打開': 401, '大量': 268, '犯罪': 602, '年度': 347, '股息': 750, '現金': 612, '進場': 891, '建議': 354, '承認': 404, '穩定': 678, '億元': 92, '計畫': 803, '紀念品': 698, '發文': 645, '舉辦': 758, '上午': 20, '地點': 237, '大樓': 262, '習近平': 730, '拜登': 415, '烏克蘭': 584, '菲律賓': 765, '加州': 143, '直接': 657, '對話': 317, '確保': 667, '白宮': 651, '和平': 205, '南海': 161, '自由': 755, '新北': 459, '市議員': 339, '通知': 883, '檢方': 524, '啟動': 211, '擔任': 439, '認定': 815, '條例': 515, '利用': 134, '萬元': 767, '衛福部': 783, '取消': 173, '做出': 85, '重大': 921, '市場': 337, '這項': 881, '擔心': 440, '掀起': 421, '規定': 796, '這種': 879, '薛瑞元': 771, '同樣': 198, '質疑': 844, '聯合': 739, '行為': 781, '提供': 432, '遊客': 894, '知名': 664, '科技': 674, '記者': 807, '巨大': 336, '實際': 307, '角色': 799, '任務': 68, '技術': 405, '帶來': 343, '努力': 147, '喜歡': 213, '空間': 679, '產業': 625, '發展': 643, '委員': 280, '詐騙': 811, '陳建仁': 942, '行政院長': 780, '悲劇': 374, '十分': 156, '支持': 444, '當天': 633, '同意': 197, '族群': 468, '政治': 452, '高達': 991, '謝謝': 822, '澳洲': 582, '城市': 240, '不明': 28, '不幸': 26, '公尺': 112, '乘客': 46, '服務': 498, '當局': 634, '迅速': 865, '安全': 290, '行程': 782, '居民': 329, '附近': 938, '受損': 176, '清楚': 577, '此事': 535, '發表': 648, '一位': 1, '綜合': 711, '程度': 676, '根本': 512, '失去': 274, '期待': 500, '生活': 622, '更多': 484, '首次': 981, '房子': 395, '投資人': 410, '申購': 628, '一張': 8, '配息': 916, '上市': 21, '等於': 692, '經驗': 710, '漲幅': 581, '達到': 901, '淨值': 576, '平均': 346, '馬斯克': 984, '攻擊': 449, '現身': 611, '歡迎': 531, '小孩': 321, '德國': 366, '先生': 97, '社群': 672, '最大': 487, '完成': 294, '看看': 661, '股價': 749, '億美': 93, '兩個': 105, '瞬間': 663, '晚上': 479, '實在': 306, '主要': 43, '評論': 813, '信心': 84, '幫助': 344, '取得': 172, '俄羅斯': 82, '基地': 243, '近年': 866, '一天': 4, '莫斯科': 764, '軍事': 860, '目標': 656, '減少': 578, '企業': 69, '涉嫌': 575, '監視器': 652, '廠商': 351, '陳重文': 943, '搜索': 437, '交保': 54, '業者': 518, '辦公室': 863, '司法': 191, '預算': 966, '畫面': 632, '隊友': 946, '避免': 907, '越來越': 850, '花蓮': 761, '地震': 236, '死傷': 538, '林右昌': 509, '凌晨': 123, '強震': 359, '傷亡': 89, '災情': 583, '班機': 608, '恢復': 373, '受傷': 174, '人數': 59, '死者': 539, '地區': 234, '找到': 403, '時分': 477, '進入': 890, '遇到': 893, '登場': 641, '台電': 188, '會議': 493, '狀態': 603, '物價': 598, '國內': 221, '具有': 118, '競爭': 690, '戰爭': 394, '價值': 90, '創下': 140, '新高': 462, '朋友': 497, '本來': 503, '通膨': 884, '大型': 257, '消費': 572, '舉行': 757, '大會': 261, '每個': 541, '紀錄': 699, '提醒': 435, '中華': 38, '辦法': 864, '整個': 455, '國王': 227, '批評': 402, '行動': 777, '輝達': 861, '黃仁': 993, '出席': 126, '上任': 19, '見面': 794, '交流': 55, '成長': 391, '方向': 463, '具體': 119, '大媽': 258, '就連': 328, '拍攝': 413, '回家': 217, '非法': 958, '尚未': 326, '球團': 614, '道奇隊': 899, '臉書': 754, '停止': 86, '確認': 670, '全面': 103, '正常': 533, '爆出': 590, '裁員': 788, '資深': 841, '爆料': 591, '飛彈': 973, '船隻': 760, '購買': 847, '國防': 229, '建設': 353, '必要': 368, '訓練': 806, '國務院': 222, '再次': 121, '不用': 29, '市府': 338, '民眾黨': 548, '家長': 304, '柯文哲': 511, '議會': 830, '維護': 715, '爆炸': 592, '手機': 399, '平台': 345, '公告': 111, '風暴': 970, '旗下': 469, '管理': 693, '餐廳': 979, '老闆': 736, '法國': 556, '網站': 717, '變成': 832, '疫情': 638, '黃金': 996, '台中': 178, '消費者': 573, '南韓': 162, '機場': 521, '老婆': 734, '田中': 626, '美子': 728, '首爾': 982, '選手': 903, '棒球': 516, '開幕戰': 932, '聲稱': 745, '拒絕': 414, '採訪': 426, '合約': 195, '這件': 874, '事情': 50, '先前': 96, '女兒': 275, '反對': 171, '支付': 443, '父親': 597, '代表': 66, '精神': 696, '家人': 301, '警察': 826, '日媒': 472, '台積電': 186, '司機': 190, '老師': 735, '學生': 289, '半導體': 158, '大學': 259, '薪資': 772, '將會': 310, '情緒': 377, '海軍': 570, '音樂廳': 963, '恐攻': 372, '俄國': 81, '死亡': 537, '槍手': 519, '製造': 791, '貼文': 839, '發布': 644, '立場': 684, '提到': 434, '安打': 291, '開放': 934, '訪問': 809, '美元': 726, '至少': 756, '階段': 947, '公分': 108, '太太': 271, '感謝': 383, '鏡頭': 929, '一間': 15, '不到': 25, '物資': 599, '聯合國': 740, '罕見': 725, '發言': 649, '加薩': 145, '共識': 117, '以色列': 67, '總理': 721, '堅持': 246, '容易': 305, '感染': 381, '通報': 882, '症狀': 639, '該名': 814, '危險': 164, '保護': 83, '健康': 87, '突破': 682, '照片': 588, '一下': 0, '海地': 566, '證實': 823, '前總統': 138, '部隊': 914, '元大': 94, '高息': 989, '一點': 16, '接獲': 428, '家庭': 303, '抗議': 411, '聲音': 746, '快訊': 369, '林書豪': 510, '符合': 691, '熱議': 589, '同學': 196, '檢查': 525, '一段': 10, '需求': 954, '學校': 288, '車輛': 859, '一路': 13, '駕駛': 986, '這位': 875, '屍體': 330, '法案': 558, '訊息': 804, '暴力': 482, '普丁': 481, '表達': 787, '穿著': 680, '休息': 70, '說法': 818, '名單': 199, '資料': 840, '陸軍': 945, '特種': 601, '注意': 561, '無人機': 585, '航空': 759, '作戰': 75, '綠扁帽': 712, '國軍': 228, '美軍': 729, '區域': 155, '馬英九': 985, '北京': 152, '新加坡': 458, '小心': 322, '王子': 607, '英國': 762, '這也': 873, '李強': 505, '推出': 429, '主任': 39, '香港': 983, '民主': 546, '政協': 450, '汽車': 553, '金融': 925, '台股': 187, '研究': 666, '投入': 407, '生產力': 623, '會不會': 492, '給予': 706, '祝福': 673, '幸福': 349, '史上': 189, '味道': 203, '咖啡': 206, '行政': 778, '客人': 297, '戰機': 393, '強化': 357, '央視': 273, '飯店': 978, '預期': 965, '鳥山明': 992, '七龍珠': 17, '少年': 325, '住院': 74, '川普': 333, '房間': 397, '趕緊': 852, '外交部': 253, '收入': 445, '媽媽': 284, '每年': 543, '投票': 408, '母親': 540, '旅客': 466, '警報': 825, '警告': 824, '問到': 209, '凱特': 124, '王妃': 606, '海洋': 569, '明顯': 475, '海巡署': 568, '作業': 76, '業務': 517, '部門': 913, '起訴': 848, '產品': 624, '震盪': 956, '指數': 419, '開元': 931, '立法': 686, '小林': 324, '製藥': 790, '紅麴': 700, '貸款': 836, '貨幣': 834, '申請': 627, '老公': 733, '坦承': 238, '公務員': 109, '房屋': 396, '北約': 154, '費率': 837, '協商': 160, '搜救': 436, '盧秀燕': 653, '排名': 423, '波音': 560, '櫻花': 529, '投信': 406, '黃國昌': 994, '黃郁芬': 995, '當機': 636, '蘇丹': 775, '統一': 707, '瑞典': 619, '海嘯': 565, '金價': 924, '高虹安': 990, '越南': 851, '草案': 763, '基本法': 244, '小光': 320, '冰雹': 122, '比特幣': 544}\n"
     ]
    },
    {
     "data": {
      "text/plain": [
       "1"
      ]
     },
     "execution_count": 22,
     "metadata": {},
     "output_type": "execute_result"
    }
   ],
   "source": [
    "# fit 完後，可以用 `vocabulary_` 看到詞的 feature index\n",
    "print(vectorizer.vocabulary_)\n",
    "vectorizer.vocabulary_['一位']"
   ]
  },
  {
   "cell_type": "code",
   "execution_count": 23,
   "metadata": {},
   "outputs": [
    {
     "name": "stdout",
     "output_type": "stream",
     "text": [
      "(933, 1000)\n",
      "(400, 1000)\n"
     ]
    }
   ],
   "source": [
    "# 不需重新 `fit()` data，因前面已經 `fit()` 過了\n",
    "# 只需將測試數據使用之前訓練好的 vectorizer 轉換為相同的特徵表示形式，而不需要重新fit。\n",
    "# 如果對測試數據再次 fit vectorizer，可能會導致使用了測試數據的信息，進而導致模型的不穩定性和過度擬合的問題。\n",
    "vec_test = vectorizer.transform(X_test)\n",
    "print(vec_train.shape)\n",
    "print(vec_test.shape)"
   ]
  },
  {
   "cell_type": "code",
   "execution_count": 24,
   "metadata": {},
   "outputs": [
    {
     "data": {
      "text/html": [
       "<style>#sk-container-id-1 {color: black;}#sk-container-id-1 pre{padding: 0;}#sk-container-id-1 div.sk-toggleable {background-color: white;}#sk-container-id-1 label.sk-toggleable__label {cursor: pointer;display: block;width: 100%;margin-bottom: 0;padding: 0.3em;box-sizing: border-box;text-align: center;}#sk-container-id-1 label.sk-toggleable__label-arrow:before {content: \"▸\";float: left;margin-right: 0.25em;color: #696969;}#sk-container-id-1 label.sk-toggleable__label-arrow:hover:before {color: black;}#sk-container-id-1 div.sk-estimator:hover label.sk-toggleable__label-arrow:before {color: black;}#sk-container-id-1 div.sk-toggleable__content {max-height: 0;max-width: 0;overflow: hidden;text-align: left;background-color: #f0f8ff;}#sk-container-id-1 div.sk-toggleable__content pre {margin: 0.2em;color: black;border-radius: 0.25em;background-color: #f0f8ff;}#sk-container-id-1 input.sk-toggleable__control:checked~div.sk-toggleable__content {max-height: 200px;max-width: 100%;overflow: auto;}#sk-container-id-1 input.sk-toggleable__control:checked~label.sk-toggleable__label-arrow:before {content: \"▾\";}#sk-container-id-1 div.sk-estimator input.sk-toggleable__control:checked~label.sk-toggleable__label {background-color: #d4ebff;}#sk-container-id-1 div.sk-label input.sk-toggleable__control:checked~label.sk-toggleable__label {background-color: #d4ebff;}#sk-container-id-1 input.sk-hidden--visually {border: 0;clip: rect(1px 1px 1px 1px);clip: rect(1px, 1px, 1px, 1px);height: 1px;margin: -1px;overflow: hidden;padding: 0;position: absolute;width: 1px;}#sk-container-id-1 div.sk-estimator {font-family: monospace;background-color: #f0f8ff;border: 1px dotted black;border-radius: 0.25em;box-sizing: border-box;margin-bottom: 0.5em;}#sk-container-id-1 div.sk-estimator:hover {background-color: #d4ebff;}#sk-container-id-1 div.sk-parallel-item::after {content: \"\";width: 100%;border-bottom: 1px solid gray;flex-grow: 1;}#sk-container-id-1 div.sk-label:hover label.sk-toggleable__label {background-color: #d4ebff;}#sk-container-id-1 div.sk-serial::before {content: \"\";position: absolute;border-left: 1px solid gray;box-sizing: border-box;top: 0;bottom: 0;left: 50%;z-index: 0;}#sk-container-id-1 div.sk-serial {display: flex;flex-direction: column;align-items: center;background-color: white;padding-right: 0.2em;padding-left: 0.2em;position: relative;}#sk-container-id-1 div.sk-item {position: relative;z-index: 1;}#sk-container-id-1 div.sk-parallel {display: flex;align-items: stretch;justify-content: center;background-color: white;position: relative;}#sk-container-id-1 div.sk-item::before, #sk-container-id-1 div.sk-parallel-item::before {content: \"\";position: absolute;border-left: 1px solid gray;box-sizing: border-box;top: 0;bottom: 0;left: 50%;z-index: -1;}#sk-container-id-1 div.sk-parallel-item {display: flex;flex-direction: column;z-index: 1;position: relative;background-color: white;}#sk-container-id-1 div.sk-parallel-item:first-child::after {align-self: flex-end;width: 50%;}#sk-container-id-1 div.sk-parallel-item:last-child::after {align-self: flex-start;width: 50%;}#sk-container-id-1 div.sk-parallel-item:only-child::after {width: 0;}#sk-container-id-1 div.sk-dashed-wrapped {border: 1px dashed gray;margin: 0 0.4em 0.5em 0.4em;box-sizing: border-box;padding-bottom: 0.4em;background-color: white;}#sk-container-id-1 div.sk-label label {font-family: monospace;font-weight: bold;display: inline-block;line-height: 1.2em;}#sk-container-id-1 div.sk-label-container {text-align: center;}#sk-container-id-1 div.sk-container {/* jupyter's `normalize.less` sets `[hidden] { display: none; }` but bootstrap.min.css set `[hidden] { display: none !important; }` so we also need the `!important` here to be able to override the default hidden behavior on the sphinx rendered scikit-learn.org. See: https://github.com/scikit-learn/scikit-learn/issues/21755 */display: inline-block !important;position: relative;}#sk-container-id-1 div.sk-text-repr-fallback {display: none;}</style><div id=\"sk-container-id-1\" class=\"sk-top-container\"><div class=\"sk-text-repr-fallback\"><pre>LogisticRegression()</pre><b>In a Jupyter environment, please rerun this cell to show the HTML representation or trust the notebook. <br />On GitHub, the HTML representation is unable to render, please try loading this page with nbviewer.org.</b></div><div class=\"sk-container\" hidden><div class=\"sk-item\"><div class=\"sk-estimator sk-toggleable\"><input class=\"sk-toggleable__control sk-hidden--visually\" id=\"sk-estimator-id-1\" type=\"checkbox\" checked><label for=\"sk-estimator-id-1\" class=\"sk-toggleable__label sk-toggleable__label-arrow\">LogisticRegression</label><div class=\"sk-toggleable__content\"><pre>LogisticRegression()</pre></div></div></div></div></div>"
      ],
      "text/plain": [
       "LogisticRegression()"
      ]
     },
     "execution_count": 24,
     "metadata": {},
     "output_type": "execute_result"
    }
   ],
   "source": [
    "# 建立分類器模型\n",
    "clf = LogisticRegression()\n",
    "clf.fit(vec_train, y_train)\n",
    "clf"
   ]
  },
  {
   "cell_type": "code",
   "execution_count": 25,
   "metadata": {},
   "outputs": [
    {
     "data": {
      "text/plain": [
       "array(['國際', '政治', '財經', '體育'], dtype=object)"
      ]
     },
     "execution_count": 25,
     "metadata": {},
     "output_type": "execute_result"
    }
   ],
   "source": [
    "clf.classes_"
   ]
  },
  {
   "cell_type": "code",
   "execution_count": 26,
   "metadata": {},
   "outputs": [
    {
     "name": "stdout",
     "output_type": "stream",
     "text": [
      "['政治' '政治' '國際' '國際' '國際' '國際' '國際' '體育' '政治' '國際']\n"
     ]
    }
   ],
   "source": [
    "y_pred = clf.predict(vec_test)\n",
    "y_pred_proba = clf.predict_proba(vec_test)\n",
    "print(y_pred[:10])"
   ]
  },
  {
   "cell_type": "code",
   "execution_count": 27,
   "metadata": {},
   "outputs": [
    {
     "name": "stdout",
     "output_type": "stream",
     "text": [
      "(400, 4)\n"
     ]
    },
    {
     "data": {
      "text/plain": [
       "array([8.81687654e-07, 9.99995777e-01, 7.61750453e-07, 2.57908402e-06])"
      ]
     },
     "execution_count": 27,
     "metadata": {},
     "output_type": "execute_result"
    }
   ],
   "source": [
    "print(y_pred_proba.shape)\n",
    "y_pred_proba[0,:]"
   ]
  },
  {
   "cell_type": "code",
   "execution_count": 28,
   "metadata": {},
   "outputs": [
    {
     "name": "stdout",
     "output_type": "stream",
     "text": [
      "              precision    recall  f1-score   support\n",
      "\n",
      "          國際       0.96      0.97      0.97       231\n",
      "          政治       0.93      0.94      0.93        80\n",
      "          財經       0.95      0.89      0.92        44\n",
      "          體育       1.00      0.96      0.98        45\n",
      "\n",
      "    accuracy                           0.95       400\n",
      "   macro avg       0.96      0.94      0.95       400\n",
      "weighted avg       0.96      0.95      0.95       400\n",
      "\n"
     ]
    }
   ],
   "source": [
    "## Accuracy, Precision, Recall, F1-score\n",
    "print(classification_report(y_test, y_pred))"
   ]
  },
  {
   "cell_type": "code",
   "execution_count": 29,
   "metadata": {},
   "outputs": [
    {
     "data": {
      "text/plain": [
       "array([[225,   5,   1,   0],\n",
       "       [  4,  75,   1,   0],\n",
       "       [  4,   1,  39,   0],\n",
       "       [  2,   0,   0,  43]])"
      ]
     },
     "execution_count": 29,
     "metadata": {},
     "output_type": "execute_result"
    }
   ],
   "source": [
    "classes = clf.classes_\n",
    "cm = confusion_matrix(y_test, y_pred)\n",
    "cm"
   ]
  },
  {
   "cell_type": "code",
   "execution_count": 30,
   "metadata": {},
   "outputs": [
    {
     "data": {
      "text/plain": [
       "(array([0.5, 1.5, 2.5, 3.5]),\n",
       " [Text(0, 0.5, '國際'),\n",
       "  Text(0, 1.5, '政治'),\n",
       "  Text(0, 2.5, '財經'),\n",
       "  Text(0, 3.5, '體育')])"
      ]
     },
     "execution_count": 30,
     "metadata": {},
     "output_type": "execute_result"
    },
    {
     "data": {
      "image/png": "[encoded data removed]",
      "text/plain": [
       "<Figure size 640x480 with 1 Axes>"
      ]
     },
     "metadata": {},
     "output_type": "display_data"
    }
   ],
   "source": [
    "## Plot confusion matrix\n",
    "fig, ax = plt.subplots()\n",
    "sns.heatmap(cm, annot=True, fmt=\"d\", ax=ax, cmap=plt.cm.Blues, cbar=False)\n",
    "ax.set(\n",
    "    xlabel=\"Pred\",\n",
    "    ylabel=\"True\",\n",
    "    xticklabels=classes,\n",
    "    yticklabels=classes,\n",
    "    title=\"Confusion matrix\",\n",
    ")\n",
    "plt.yticks(rotation=0)"
   ]
  },
  {
   "cell_type": "markdown",
   "metadata": {},
   "source": [
    "### 3.4 tfidf"
   ]
  },
  {
   "cell_type": "markdown",
   "metadata": {},
   "source": [
    "改試試看使用 tf-idf 的 DTM 來代表文章，訓練分類模型的效果"
   ]
  },
  {
   "cell_type": "code",
   "execution_count": 31,
   "metadata": {},
   "outputs": [
    {
     "data": {
      "text/plain": [
       "array([0.        , 0.        , 0.        , 0.        , 0.        ,\n",
       "       0.        , 0.        , 0.        , 0.        , 0.        ,\n",
       "       0.        , 0.        , 0.        , 0.        , 0.        ,\n",
       "       0.        , 0.        , 0.        , 0.        , 0.        ,\n",
       "       0.        , 0.        , 0.        , 0.        , 0.        ,\n",
       "       0.        , 0.        , 0.        , 0.        , 0.        ,\n",
       "       0.        , 0.        , 0.        , 0.        , 0.        ,\n",
       "       0.08634001, 0.        , 0.        , 0.        , 0.        ,\n",
       "       0.        , 0.09235892, 0.        , 0.        , 0.        ,\n",
       "       0.        , 0.        , 0.        , 0.        , 0.        ,\n",
       "       0.        , 0.        , 0.        , 0.        , 0.        ,\n",
       "       0.        , 0.        , 0.        , 0.        , 0.        ,\n",
       "       0.        , 0.        , 0.        , 0.        , 0.        ,\n",
       "       0.        , 0.        , 0.        , 0.        , 0.        ,\n",
       "       0.        , 0.        , 0.        , 0.        , 0.        ,\n",
       "       0.        , 0.        , 0.        , 0.        , 0.        ,\n",
       "       0.        , 0.        , 0.        , 0.        , 0.        ,\n",
       "       0.        , 0.        , 0.        , 0.        , 0.        ,\n",
       "       0.        , 0.        , 0.        , 0.        , 0.        ,\n",
       "       0.        , 0.        , 0.        , 0.        , 0.        ,\n",
       "       0.        , 0.09757505, 0.        , 0.        , 0.        ,\n",
       "       0.        , 0.        , 0.        , 0.        , 0.        ,\n",
       "       0.        , 0.        , 0.        , 0.        , 0.        ,\n",
       "       0.        , 0.        , 0.        , 0.        , 0.        ,\n",
       "       0.        , 0.        , 0.        , 0.        , 0.        ,\n",
       "       0.        , 0.        , 0.        , 0.        , 0.        ,\n",
       "       0.        , 0.        , 0.        , 0.        , 0.        ,\n",
       "       0.        , 0.09603805, 0.        , 0.        , 0.        ,\n",
       "       0.        , 0.        , 0.        , 0.        , 0.        ,\n",
       "       0.        , 0.        , 0.        , 0.        , 0.        ,\n",
       "       0.        , 0.        , 0.        , 0.10717615, 0.        ,\n",
       "       0.        , 0.        , 0.        , 0.        , 0.        ,\n",
       "       0.        , 0.        , 0.        , 0.        , 0.        ,\n",
       "       0.        , 0.        , 0.        , 0.        , 0.10037445,\n",
       "       0.        , 0.        , 0.        , 0.        , 0.        ,\n",
       "       0.        , 0.        , 0.0950648 , 0.        , 0.        ,\n",
       "       0.        , 0.        , 0.        , 0.        , 0.        ,\n",
       "       0.        , 0.        , 0.        , 0.        , 0.        ,\n",
       "       0.        , 0.        , 0.        , 0.09603805, 0.        ,\n",
       "       0.        , 0.        , 0.        , 0.        , 0.        ,\n",
       "       0.        , 0.        , 0.        , 0.        , 0.09757505,\n",
       "       0.        , 0.        , 0.        , 0.        , 0.        ,\n",
       "       0.        , 0.        , 0.        , 0.        , 0.        ,\n",
       "       0.        , 0.        , 0.        , 0.        , 0.        ,\n",
       "       0.        , 0.        , 0.        , 0.        , 0.        ,\n",
       "       0.20444604, 0.32828686, 0.        , 0.        , 0.        ,\n",
       "       0.        , 0.        , 0.        , 0.        , 0.        ,\n",
       "       0.07942477, 0.        , 0.        , 0.        , 0.        ,\n",
       "       0.        , 0.        , 0.        , 0.        , 0.        ,\n",
       "       0.        , 0.        , 0.        , 0.        , 0.        ,\n",
       "       0.        , 0.        , 0.        , 0.        , 0.        ,\n",
       "       0.        , 0.07703778, 0.        , 0.        , 0.        ,\n",
       "       0.        , 0.        , 0.        , 0.        , 0.        ,\n",
       "       0.        , 0.        , 0.        , 0.        , 0.        ,\n",
       "       0.        , 0.        , 0.        , 0.        , 0.        ,\n",
       "       0.        , 0.        , 0.        , 0.        , 0.        ,\n",
       "       0.        , 0.        , 0.        , 0.        , 0.        ,\n",
       "       0.        , 0.        , 0.        , 0.        , 0.        ,\n",
       "       0.        , 0.        , 0.        , 0.17268001, 0.        ,\n",
       "       0.        , 0.        , 0.        , 0.        , 0.        ,\n",
       "       0.        , 0.        , 0.        , 0.        , 0.        ,\n",
       "       0.        , 0.        , 0.        , 0.        , 0.        ,\n",
       "       0.        , 0.        , 0.        , 0.        , 0.        ,\n",
       "       0.        , 0.        , 0.        , 0.        , 0.        ,\n",
       "       0.        , 0.        , 0.        , 0.        , 0.        ,\n",
       "       0.        , 0.        , 0.        , 0.        , 0.        ,\n",
       "       0.        , 0.        , 0.        , 0.        , 0.06865802,\n",
       "       0.        , 0.        , 0.        , 0.        , 0.        ,\n",
       "       0.09810975, 0.        , 0.        , 0.        , 0.        ,\n",
       "       0.        , 0.        , 0.        , 0.11145519, 0.        ,\n",
       "       0.        , 0.        , 0.        , 0.        , 0.        ,\n",
       "       0.        , 0.        , 0.        , 0.        , 0.        ,\n",
       "       0.        , 0.        , 0.        , 0.        , 0.        ,\n",
       "       0.        , 0.        , 0.        , 0.        , 0.        ,\n",
       "       0.        , 0.        , 0.        , 0.        , 0.        ,\n",
       "       0.        , 0.        , 0.        , 0.        , 0.        ,\n",
       "       0.        , 0.        , 0.        , 0.        , 0.        ,\n",
       "       0.        , 0.        , 0.        , 0.        , 0.        ,\n",
       "       0.        , 0.        , 0.        , 0.        , 0.        ,\n",
       "       0.        , 0.        , 0.        , 0.10565516, 0.        ,\n",
       "       0.        , 0.        , 0.        , 0.        , 0.        ,\n",
       "       0.        , 0.        , 0.        , 0.        , 0.        ,\n",
       "       0.        , 0.        , 0.        , 0.        , 0.        ,\n",
       "       0.        , 0.        , 0.        , 0.        , 0.        ,\n",
       "       0.        , 0.        , 0.        , 0.        , 0.        ,\n",
       "       0.        , 0.        , 0.        , 0.        , 0.        ,\n",
       "       0.20707672, 0.        , 0.        , 0.        , 0.        ,\n",
       "       0.        , 0.        , 0.        , 0.        , 0.        ,\n",
       "       0.        , 0.        , 0.        , 0.        , 0.        ,\n",
       "       0.        , 0.        , 0.        , 0.11340246, 0.        ,\n",
       "       0.        , 0.        , 0.        , 0.        , 0.        ,\n",
       "       0.        , 0.        , 0.        , 0.        , 0.        ,\n",
       "       0.        , 0.02435393, 0.        , 0.        , 0.        ,\n",
       "       0.        , 0.        , 0.        , 0.        , 0.        ,\n",
       "       0.        , 0.        , 0.        , 0.        , 0.        ,\n",
       "       0.        , 0.        , 0.        , 0.        , 0.        ,\n",
       "       0.        , 0.        , 0.        , 0.        , 0.        ,\n",
       "       0.        , 0.        , 0.        , 0.        , 0.        ,\n",
       "       0.        , 0.        , 0.        , 0.        , 0.1042237 ,\n",
       "       0.        , 0.        , 0.        , 0.        , 0.        ,\n",
       "       0.        , 0.        , 0.        , 0.        , 0.37954528,\n",
       "       0.        , 0.        , 0.02432787, 0.        , 0.        ,\n",
       "       0.        , 0.        , 0.        , 0.        , 0.        ,\n",
       "       0.        , 0.        , 0.        , 0.        , 0.        ,\n",
       "       0.        , 0.        , 0.        , 0.11053705, 0.        ,\n",
       "       0.        , 0.        , 0.        , 0.        , 0.        ,\n",
       "       0.        , 0.        , 0.07465715, 0.        , 0.        ,\n",
       "       0.        , 0.        , 0.        , 0.        , 0.        ,\n",
       "       0.        , 0.        , 0.        , 0.        , 0.        ,\n",
       "       0.        , 0.        , 0.        , 0.        , 0.        ,\n",
       "       0.        , 0.        , 0.        , 0.        , 0.        ,\n",
       "       0.        , 0.        , 0.        , 0.        , 0.        ,\n",
       "       0.        , 0.        , 0.        , 0.        , 0.        ,\n",
       "       0.        , 0.        , 0.        , 0.        , 0.        ,\n",
       "       0.        , 0.        , 0.        , 0.        , 0.        ,\n",
       "       0.        , 0.        , 0.        , 0.        , 0.        ,\n",
       "       0.        , 0.        , 0.        , 0.        , 0.        ,\n",
       "       0.        , 0.        , 0.        , 0.        , 0.        ,\n",
       "       0.        , 0.        , 0.        , 0.        , 0.        ,\n",
       "       0.        , 0.        , 0.        , 0.        , 0.        ,\n",
       "       0.        , 0.        , 0.        , 0.        , 0.        ,\n",
       "       0.        , 0.        , 0.        , 0.        , 0.        ,\n",
       "       0.        , 0.        , 0.        , 0.        , 0.        ,\n",
       "       0.        , 0.        , 0.        , 0.        , 0.        ,\n",
       "       0.        , 0.        , 0.        , 0.        , 0.        ,\n",
       "       0.        , 0.        , 0.        , 0.        , 0.        ,\n",
       "       0.        , 0.        , 0.        , 0.        , 0.        ,\n",
       "       0.        , 0.        , 0.        , 0.        , 0.        ,\n",
       "       0.        , 0.        , 0.        , 0.        , 0.        ,\n",
       "       0.        , 0.        , 0.        , 0.        , 0.        ,\n",
       "       0.        , 0.        , 0.        , 0.        , 0.        ,\n",
       "       0.        , 0.        , 0.        , 0.        , 0.        ,\n",
       "       0.        , 0.        , 0.        , 0.        , 0.        ,\n",
       "       0.        , 0.        , 0.        , 0.        , 0.        ,\n",
       "       0.        , 0.        , 0.        , 0.        , 0.        ,\n",
       "       0.        , 0.        , 0.10222302, 0.        , 0.        ,\n",
       "       0.        , 0.        , 0.        , 0.        , 0.        ,\n",
       "       0.07445185, 0.        , 0.19410371, 0.        , 0.        ,\n",
       "       0.        , 0.        , 0.        , 0.        , 0.        ,\n",
       "       0.        , 0.        , 0.        , 0.        , 0.        ,\n",
       "       0.        , 0.        , 0.        , 0.20444604, 0.        ,\n",
       "       0.        , 0.        , 0.        , 0.        , 0.        ,\n",
       "       0.        , 0.        , 0.        , 0.        , 0.        ,\n",
       "       0.        , 0.        , 0.        , 0.        , 0.        ,\n",
       "       0.        , 0.        , 0.        , 0.        , 0.        ,\n",
       "       0.        , 0.        , 0.        , 0.        , 0.        ,\n",
       "       0.        , 0.        , 0.        , 0.        , 0.        ,\n",
       "       0.        , 0.        , 0.        , 0.        , 0.        ,\n",
       "       0.        , 0.        , 0.        , 0.        , 0.        ,\n",
       "       0.        , 0.        , 0.        , 0.        , 0.        ,\n",
       "       0.        , 0.        , 0.        , 0.24134777, 0.        ,\n",
       "       0.        , 0.        , 0.        , 0.        , 0.        ,\n",
       "       0.        , 0.        , 0.        , 0.        , 0.        ,\n",
       "       0.        , 0.        , 0.        , 0.        , 0.        ,\n",
       "       0.        , 0.        , 0.        , 0.        , 0.        ,\n",
       "       0.        , 0.        , 0.        , 0.        , 0.        ,\n",
       "       0.        , 0.        , 0.        , 0.        , 0.        ,\n",
       "       0.        , 0.        , 0.        , 0.        , 0.        ,\n",
       "       0.        , 0.        , 0.        , 0.        , 0.        ,\n",
       "       0.        , 0.        , 0.        , 0.        , 0.        ,\n",
       "       0.        , 0.        , 0.        , 0.        , 0.        ,\n",
       "       0.        , 0.        , 0.        , 0.        , 0.        ,\n",
       "       0.        , 0.        , 0.        , 0.        , 0.        ,\n",
       "       0.        , 0.06281409, 0.        , 0.        , 0.        ,\n",
       "       0.        , 0.        , 0.        , 0.        , 0.        ,\n",
       "       0.        , 0.        , 0.        , 0.        , 0.        ,\n",
       "       0.        , 0.09653967, 0.        , 0.        , 0.        ,\n",
       "       0.        , 0.        , 0.        , 0.        , 0.        ,\n",
       "       0.        , 0.        , 0.        , 0.        , 0.        ,\n",
       "       0.        , 0.        , 0.        , 0.        , 0.        ,\n",
       "       0.        , 0.        , 0.        , 0.        , 0.        ,\n",
       "       0.        , 0.        , 0.        , 0.        , 0.        ,\n",
       "       0.        , 0.        , 0.        , 0.        , 0.        ,\n",
       "       0.        , 0.        , 0.        , 0.        , 0.        ,\n",
       "       0.        , 0.        , 0.        , 0.        , 0.        ,\n",
       "       0.        , 0.        , 0.        , 0.        , 0.        ,\n",
       "       0.        , 0.        , 0.        , 0.        , 0.        ,\n",
       "       0.        , 0.        , 0.        , 0.        , 0.08736091,\n",
       "       0.        , 0.        , 0.        , 0.        , 0.        ,\n",
       "       0.        , 0.        , 0.        , 0.        , 0.        ,\n",
       "       0.        , 0.        , 0.        , 0.        , 0.        ,\n",
       "       0.        , 0.        , 0.        , 0.        , 0.        ,\n",
       "       0.        , 0.        , 0.        , 0.        , 0.        ,\n",
       "       0.        , 0.        , 0.        , 0.        , 0.        ,\n",
       "       0.        , 0.        , 0.        , 0.        , 0.        ,\n",
       "       0.        , 0.        , 0.        , 0.        , 0.        ,\n",
       "       0.094129  , 0.        , 0.        , 0.        , 0.        ,\n",
       "       0.        , 0.        , 0.        , 0.        , 0.        ,\n",
       "       0.        , 0.        , 0.        , 0.        , 0.        ,\n",
       "       0.        , 0.        , 0.        , 0.        , 0.        ,\n",
       "       0.        , 0.        , 0.        , 0.        , 0.        ,\n",
       "       0.        , 0.        , 0.        , 0.        , 0.        ,\n",
       "       0.        , 0.        , 0.        , 0.        , 0.        ,\n",
       "       0.        , 0.        , 0.        , 0.        , 0.        ,\n",
       "       0.        , 0.        , 0.        , 0.        , 0.        ,\n",
       "       0.        , 0.        , 0.        , 0.        , 0.        ,\n",
       "       0.        , 0.        , 0.        , 0.        , 0.        ,\n",
       "       0.        , 0.        , 0.        , 0.        , 0.        ,\n",
       "       0.        , 0.        , 0.        , 0.        , 0.        ,\n",
       "       0.        , 0.        , 0.        , 0.46660398, 0.23567591])"
      ]
     },
     "execution_count": 31,
     "metadata": {},
     "output_type": "execute_result"
    }
   ],
   "source": [
    "vectorizer = TfidfVectorizer(max_features=1000)\n",
    "vec_train = vectorizer.fit_transform(X_train)\n",
    "vec_test = vectorizer.transform(X_test)\n",
    "vec_train.toarray()[0,:]"
   ]
  },
  {
   "cell_type": "code",
   "execution_count": 32,
   "metadata": {},
   "outputs": [
    {
     "name": "stdout",
     "output_type": "stream",
     "text": [
      "              precision    recall  f1-score   support\n",
      "\n",
      "          國際       0.89      0.99      0.94       231\n",
      "          政治       0.96      0.82      0.89        80\n",
      "          財經       0.94      0.77      0.85        44\n",
      "          體育       1.00      0.87      0.93        45\n",
      "\n",
      "    accuracy                           0.92       400\n",
      "   macro avg       0.95      0.86      0.90       400\n",
      "weighted avg       0.92      0.92      0.92       400\n",
      "\n"
     ]
    }
   ],
   "source": [
    "clf.fit(vec_train, y_train)\n",
    "y_pred = clf.predict(vec_test)\n",
    "y_pred_proba = clf.predict_proba(vec_test)\n",
    "\n",
    "# results\n",
    "## Accuracy, Precision, Recall, F1-score\n",
    "print(classification_report(y_test, y_pred))"
   ]
  },
  {
   "cell_type": "markdown",
   "metadata": {},
   "source": [
    "效果一樣也是不錯，可能因為四個新聞版別本來就有很大的差異，用字會不太一樣～"
   ]
  },
  {
   "cell_type": "markdown",
   "metadata": {},
   "source": [
    "### 3.5 CV"
   ]
  },
  {
   "cell_type": "markdown",
   "metadata": {},
   "source": [
    "接著介紹 cross-validation。CV 在機器學習中，是一個很常用來讓模型評估能夠得到更穩定的數值的手法。"
   ]
  },
  {
   "cell_type": "markdown",
   "metadata": {},
   "source": [
    "cross-validation 會自動切成 k 組 train-test dataset。\n",
    "\n",
    "cross_validate() 會回傳經過 cross-validation 的模型評估結果。"
   ]
  },
  {
   "cell_type": "code",
   "execution_count": 33,
   "metadata": {},
   "outputs": [
    {
     "name": "stdout",
     "output_type": "stream",
     "text": [
      "{'estimator': [LogisticRegression(),\n",
      "               LogisticRegression(),\n",
      "               LogisticRegression(),\n",
      "               LogisticRegression(),\n",
      "               LogisticRegression()],\n",
      " 'fit_time': array([0.11377192, 0.08176517, 0.09965682, 0.09862113, 0.09549713]),\n",
      " 'score_time': array([0.02565002, 0.02205491, 0.02699804, 0.02472591, 0.02369094]),\n",
      " 'test_f1_macro': array([0.85176788, 0.87672099, 0.83977487, 0.7944256 , 0.92129356]),\n",
      " 'test_precision_macro': array([0.91559829, 0.94731638, 0.94380356, 0.92756391, 0.97173913]),\n",
      " 'test_recall_macro': array([0.81070261, 0.82825077, 0.77862554, 0.73277629, 0.88522727])}\n"
     ]
    }
   ],
   "source": [
    "clf = LogisticRegression()\n",
    "vec_train = TfidfVectorizer(max_features=1000).fit_transform(X_train)\n",
    "\n",
    "scores = cross_validate(clf, vec_train, y_train, cv=5, scoring=(\"f1_macro\", \"recall_macro\", \"precision_macro\"), return_estimator=True)\n",
    "pprint(scores)"
   ]
  },
  {
   "cell_type": "markdown",
   "metadata": {},
   "source": [
    "cross_val_predict() 則會回傳 cv 預測的類別。"
   ]
  },
  {
   "cell_type": "code",
   "execution_count": 34,
   "metadata": {},
   "outputs": [
    {
     "name": "stdout",
     "output_type": "stream",
     "text": [
      "              precision    recall  f1-score   support\n",
      "\n",
      "          國際       0.84      0.99      0.91       510\n",
      "          政治       0.97      0.83      0.90       222\n",
      "          財經       0.97      0.62      0.75       102\n",
      "          體育       0.97      0.79      0.87        99\n",
      "\n",
      "    accuracy                           0.89       933\n",
      "   macro avg       0.94      0.81      0.86       933\n",
      "weighted avg       0.90      0.89      0.89       933\n",
      "\n"
     ]
    }
   ],
   "source": [
    "y_pred = cross_val_predict(clf, vec_train, y_train, cv=5)\n",
    "print(classification_report(y_train, y_pred))"
   ]
  },
  {
   "cell_type": "markdown",
   "metadata": {},
   "source": [
    "### 4. 比較不同模型效果"
   ]
  },
  {
   "cell_type": "code",
   "execution_count": 36,
   "metadata": {},
   "outputs": [],
   "source": [
    "# 定義模型訓練組合\n",
    "## pipeline: 資料處理 vectorizer + 分類器 clf\n",
    "## 由於 cross-validation 會自動將資料分成 train/test，因此 input 只要給 X, y 即可\n",
    "\n",
    "def train_cv(vectorizer, clf, X, y):\n",
    "\n",
    "    ## train classifier\n",
    "    vec_X = vectorizer.fit_transform(X).toarray()\n",
    "    \n",
    "    ## get cv results\n",
    "    cv_results = cross_validate(clf, vec_X, y, cv=5, return_estimator=True)\n",
    "    y_pred = cross_val_predict(clf, vec_X, y, cv=5)\n",
    "    y_pred_proba = cross_val_predict(clf, vec_X, y, cv=5, method=\"predict_proba\")\n",
    "    \n",
    "    ## Accuracy, Precision, Recall, F1-score\n",
    "    cls_report = classification_report(y, y_pred, output_dict=True)\n",
    "    print(classification_report(y, y_pred))\n",
    "\n",
    "    classes = cv_results['estimator'][0].classes_\n",
    "    \n",
    "    ## Plot confusion matrix\n",
    "    cm = confusion_matrix(y, y_pred)\n",
    "    fig, ax = plt.subplots()\n",
    "    sns.heatmap(cm, annot=True, fmt=\"d\", ax=ax, cmap=plt.cm.Blues, cbar=False)\n",
    "    ax.set(\n",
    "        xlabel=\"Pred\",\n",
    "        ylabel=\"True\",\n",
    "        xticklabels=classes,\n",
    "        yticklabels=classes,\n",
    "        title= str(clf) + \"Confusion matrix\",\n",
    "    )\n",
    "    plt.yticks(rotation=0)\n",
    "\n",
    "    clf.fit(vec_X, y)\n",
    "    # return the model object\n",
    "    return cls_report"
   ]
  },
  {
   "cell_type": "code",
   "execution_count": 37,
   "metadata": {},
   "outputs": [
    {
     "name": "stdout",
     "output_type": "stream",
     "text": [
      "              precision    recall  f1-score   support\n",
      "\n",
      "          國際       0.84      0.99      0.91       510\n",
      "          政治       0.97      0.83      0.90       222\n",
      "          財經       0.97      0.62      0.75       102\n",
      "          體育       0.97      0.79      0.87        99\n",
      "\n",
      "    accuracy                           0.89       933\n",
      "   macro avg       0.94      0.81      0.86       933\n",
      "weighted avg       0.90      0.89      0.89       933\n",
      "\n"
     ]
    },
    {
     "data": {
      "image/png": "[encoded data removed]",
      "text/plain": [
       "<Figure size 640x480 with 1 Axes>"
      ]
     },
     "metadata": {},
     "output_type": "display_data"
    }
   ],
   "source": [
    "vectorizer = TfidfVectorizer(max_features=1000)\n",
    "clf = LogisticRegression()\n",
    "result = train_cv(vectorizer, clf, X_train, y_train)"
   ]
  },
  {
   "cell_type": "code",
   "execution_count": 38,
   "metadata": {},
   "outputs": [
    {
     "name": "stdout",
     "output_type": "stream",
     "text": [
      "====================================================================================================\n",
      "now training: clf_logistic\n",
      "              precision    recall  f1-score   support\n",
      "\n",
      "          國際       0.84      0.99      0.91       510\n",
      "          政治       0.97      0.83      0.90       222\n",
      "          財經       0.97      0.62      0.75       102\n",
      "          體育       0.97      0.79      0.87        99\n",
      "\n",
      "    accuracy                           0.89       933\n",
      "   macro avg       0.94      0.81      0.86       933\n",
      "weighted avg       0.90      0.89      0.89       933\n",
      "\n",
      "====================================================================================================\n",
      "====================================================================================================\n",
      "now training: clf_dtree\n",
      "              precision    recall  f1-score   support\n",
      "\n",
      "          國際       0.83      0.89      0.86       510\n",
      "          政治       0.85      0.78      0.82       222\n",
      "          財經       0.66      0.62      0.64       102\n",
      "          體育       0.91      0.84      0.87        99\n",
      "\n",
      "    accuracy                           0.83       933\n",
      "   macro avg       0.81      0.78      0.80       933\n",
      "weighted avg       0.83      0.83      0.83       933\n",
      "\n",
      "====================================================================================================\n",
      "====================================================================================================\n",
      "now training: clf_svm\n",
      "              precision    recall  f1-score   support\n",
      "\n",
      "          國際       0.85      0.99      0.91       510\n",
      "          政治       0.98      0.84      0.90       222\n",
      "          財經       0.97      0.63      0.76       102\n",
      "          體育       0.98      0.82      0.89        99\n",
      "\n",
      "    accuracy                           0.89       933\n",
      "   macro avg       0.94      0.82      0.87       933\n",
      "weighted avg       0.91      0.89      0.89       933\n",
      "\n",
      "====================================================================================================\n",
      "====================================================================================================\n",
      "now training: clf_rf\n",
      "              precision    recall  f1-score   support\n",
      "\n",
      "          國際       0.85      0.99      0.91       510\n",
      "          政治       0.97      0.82      0.89       222\n",
      "          財經       0.97      0.60      0.74       102\n",
      "          體育       0.98      0.90      0.94        99\n",
      "\n",
      "    accuracy                           0.90       933\n",
      "   macro avg       0.94      0.83      0.87       933\n",
      "weighted avg       0.91      0.90      0.89       933\n",
      "\n",
      "====================================================================================================\n"
     ]
    },
    {
     "data": {
      "image/png": "[encoded data removed]",
      "text/plain": [
       "<Figure size 640x480 with 1 Axes>"
      ]
     },
     "metadata": {},
     "output_type": "display_data"
    },
    {
     "data": {
      "image/png": "[encoded data removed]",
      "text/plain": [
       "<Figure size 640x480 with 1 Axes>"
      ]
     },
     "metadata": {},
     "output_type": "display_data"
    },
    {
     "data": {
      "image/png": "[encoded data removed]",
      "text/plain": [
       "<Figure size 640x480 with 1 Axes>"
      ]
     },
     "metadata": {},
     "output_type": "display_data"
    },
    {
     "data": {
      "image/png": "[encoded data removed]",
      "text/plain": [
       "<Figure size 640x480 with 1 Axes>"
      ]
     },
     "metadata": {},
     "output_type": "display_data"
    }
   ],
   "source": [
    "# 準備訓練資料\n",
    "X = data[\"words\"]\n",
    "y = data[\"artCatagory\"]\n",
    "\n",
    "# 把整個資料集七三切\n",
    "X_train, X_test, y_train, y_test = train_test_split(\n",
    "    X, y, test_size=0.3, random_state=777\n",
    ")\n",
    "# 定義模型訓練組合\n",
    "model_set = dict()\n",
    "model_set['clf_logistic'] = LogisticRegression()\n",
    "model_set['clf_dtree'] = DecisionTreeClassifier()\n",
    "model_set['clf_svm'] = svm.SVC(probability=True) # 要使用SVM的predict_proba的話，必須在叫出SVC的時候就將probability設為True\n",
    "model_set['clf_rf'] = RandomForestClassifier()\n",
    "# 定義 vectorizer\n",
    "# vectorizer = CountVectorizer(max_features=1000)\n",
    "vectorizer = TfidfVectorizer(max_features=1000)\n",
    "# 存結果\n",
    "result_set = dict()\n",
    "\n",
    "for k, model in model_set.items():\n",
    "    print(\"=\"*100)\n",
    "    print(f\"now training: {k}\")\n",
    "    result_set[k] = train_cv(vectorizer, model, X_train, y_train)\n",
    "    print(\"=\"*100)"
   ]
  },
  {
   "cell_type": "code",
   "execution_count": 39,
   "metadata": {},
   "outputs": [
    {
     "data": {
      "text/plain": [
       "{'國際': {'precision': 0.8444816053511706,\n",
       "  'recall': 0.9901960784313726,\n",
       "  'f1-score': 0.9115523465703972,\n",
       "  'support': 510.0},\n",
       " '政治': {'precision': 0.9736842105263158,\n",
       "  'recall': 0.8333333333333334,\n",
       "  'f1-score': 0.8980582524271845,\n",
       "  'support': 222.0},\n",
       " '財經': {'precision': 0.9692307692307692,\n",
       "  'recall': 0.6176470588235294,\n",
       "  'f1-score': 0.7544910179640718,\n",
       "  'support': 102.0},\n",
       " '體育': {'precision': 0.975,\n",
       "  'recall': 0.7878787878787878,\n",
       "  'f1-score': 0.8715083798882681,\n",
       "  'support': 99.0},\n",
       " 'accuracy': 0.8906752411575563,\n",
       " 'macro avg': {'precision': 0.940599146277064,\n",
       "  'recall': 0.8072638146167559,\n",
       "  'f1-score': 0.8589024992124803,\n",
       "  'support': 933.0},\n",
       " 'weighted avg': {'precision': 0.9027117384002974,\n",
       "  'recall': 0.8906752411575563,\n",
       "  'f1-score': 0.8869218030343101,\n",
       "  'support': 933.0}}"
      ]
     },
     "execution_count": 39,
     "metadata": {},
     "output_type": "execute_result"
    }
   ],
   "source": [
    "result_set['clf_logistic']"
   ]
  },
  {
   "cell_type": "code",
   "execution_count": 40,
   "metadata": {},
   "outputs": [
    {
     "name": "stdout",
     "output_type": "stream",
     "text": [
      "best model: clf_rf\n",
      "{'國際': {'precision': 0.8510998307952623, 'recall': 0.9862745098039216, 'f1-score': 0.9137148047229792, 'support': 510.0}, '政治': {'precision': 0.973404255319149, 'recall': 0.8243243243243243, 'f1-score': 0.8926829268292683, 'support': 222.0}, '財經': {'precision': 0.9682539682539683, 'recall': 0.5980392156862745, 'f1-score': 0.7393939393939394, 'support': 102.0}, '體育': {'precision': 0.978021978021978, 'recall': 0.898989898989899, 'f1-score': 0.9368421052631579, 'support': 99.0}, 'accuracy': 0.8960342979635584, 'macro avg': {'precision': 0.9426950080975894, 'recall': 0.8269069872011048, 'f1-score': 0.8706584440523362, 'support': 933.0}, 'weighted avg': {'precision': 0.9064766762835108, 'recall': 0.8960342979635584, 'f1-score': 0.8921068707438922, 'support': 933.0}}\n"
     ]
    }
   ],
   "source": [
    "max = 0\n",
    "best_model_name = \"\"\n",
    "best_model_metric = \"f1-score\"\n",
    "\n",
    "## choose max f1-score model from result_set\n",
    "for k, v in result_set.items():\n",
    "    if v['weighted avg'][best_model_metric] > max:\n",
    "        max = v['weighted avg'][best_model_metric]\n",
    "        best_model_name = k\n",
    "print(f\"best model: {best_model_name}\")\n",
    "print(result_set[best_model_name])"
   ]
  },
  {
   "cell_type": "code",
   "execution_count": 41,
   "metadata": {},
   "outputs": [
    {
     "name": "stdout",
     "output_type": "stream",
     "text": [
      "              precision    recall  f1-score   support\n",
      "\n",
      "          國際       0.89      1.00      0.94       231\n",
      "          政治       0.97      0.85      0.91        80\n",
      "          財經       0.97      0.70      0.82        44\n",
      "          體育       1.00      0.89      0.94        45\n",
      "\n",
      "    accuracy                           0.92       400\n",
      "   macro avg       0.96      0.86      0.90       400\n",
      "weighted avg       0.93      0.92      0.92       400\n",
      "\n"
     ]
    }
   ],
   "source": [
    "y_pred = model_set['clf_svm'].predict(vectorizer.transform(X_test).toarray())\n",
    "print(classification_report(y_test, y_pred))"
   ]
  },
  {
   "cell_type": "code",
   "execution_count": 42,
   "metadata": {},
   "outputs": [
    {
     "data": {
      "text/plain": [
       "array(['國際'], dtype=object)"
      ]
     },
     "execution_count": 42,
     "metadata": {},
     "output_type": "execute_result"
    }
   ],
   "source": [
    "model_set['clf_svm'].predict(vectorizer.transform([\"俄國 異議 人士 納瓦尼 下葬 莫斯科 上萬 民眾 怒吼 普丁 殺人兇手\"]).toarray())"
   ]
  },
  {
   "cell_type": "markdown",
   "metadata": {},
   "source": [
    "### 5. 分析可解釋模型的結果"
   ]
  },
  {
   "cell_type": "markdown",
   "metadata": {},
   "source": [
    "5.1 各字詞特徵的estimate係數"
   ]
  },
  {
   "cell_type": "markdown",
   "metadata": {},
   "source": [
    "對於線性的模型，可以藉由相關係數，查看資料特徵（詞）對於判斷分類的影響\n",
    "\n",
    "- coefficient estimate 代表特徵每增加一單位（在此處會是該文章的某字詞頻 +1），y是1的發生機率比y是0的發生機率多幾倍（odds ratio 勝算比）\n",
    "- 這裡舉logistic regression + cv tokenizer 為例"
   ]
  },
  {
   "cell_type": "code",
   "execution_count": 43,
   "metadata": {},
   "outputs": [],
   "source": [
    "def plot_coef(logistic_reg_model, feature_names, top_n=10):\n",
    "    # 選出某個類別的前10大影響力字詞\n",
    "    log_odds = logistic_reg_model.coef_.T\n",
    "    coef_df = pd.DataFrame(\n",
    "        log_odds, \n",
    "        columns=logistic_reg_model.classes_, index=feature_names\n",
    "    )\n",
    "    for label in coef_df.columns:\n",
    "        select_words = (\n",
    "            coef_df[[label]]\n",
    "            .sort_values(by=label, ascending=False)\n",
    "            .iloc[np.r_[0:top_n, -top_n:0]]\n",
    "        )\n",
    "        word = select_words.index\n",
    "        count = select_words[label]\n",
    "        category_colors = np.where(\n",
    "            select_words[label] >= 0, \"darkseagreen\", \"rosybrown\"\n",
    "        )  # 設定顏色\n",
    "\n",
    "        fig, ax = plt.subplots(figsize=(8, top_n*0.8))  # 設定畫布\n",
    "        plt.rcParams[\"axes.unicode_minus\"] = False\n",
    "\n",
    "        ax.barh(word, count, color=category_colors)\n",
    "        ax.invert_yaxis()\n",
    "        ax.set_title(\n",
    "            \"Coeff increase/decrease odds ratio of 「\" + label + \"」 label the most\",\n",
    "            loc=\"left\",\n",
    "            size=16,\n",
    "        )\n",
    "        ax.set_ylabel(\"word\", size=14)\n",
    "        ax.set_xlabel(\"odds ratio\", size=14)"
   ]
  },
  {
   "cell_type": "code",
   "execution_count": 44,
   "metadata": {},
   "outputs": [
    {
     "data": {
      "image/png": "[encoded data removed]",
      "text/plain": [
       "<Figure size 800x800 with 1 Axes>"
      ]
     },
     "metadata": {},
     "output_type": "display_data"
    },
    {
     "data": {
      "image/png": "[encoded data removed]",
      "text/plain": [
       "<Figure size 800x800 with 1 Axes>"
      ]
     },
     "metadata": {},
     "output_type": "display_data"
    },
    {
     "data": {
      "image/png": "[encoded data removed]",
      "text/plain": [
       "<Figure size 800x800 with 1 Axes>"
      ]
     },
     "metadata": {},
     "output_type": "display_data"
    },
    {
     "data": {
      "image/png": "[encoded data removed]",
      "text/plain": [
       "<Figure size 800x800 with 1 Axes>"
      ]
     },
     "metadata": {},
     "output_type": "display_data"
    }
   ],
   "source": [
    "plot_coef(logistic_reg_model=model_set['clf_logistic'], feature_names=vectorizer.get_feature_names_out(), top_n=10)"
   ]
  },
  {
   "cell_type": "markdown",
   "metadata": {},
   "source": [
    "「財經」中出現了台積電、台股、投資等關鍵字；「國際」中高係數的字是美國、日本、大陸等國際新聞關鍵字；「政治」則是立委、蔣萬安、國民黨相關的字；「體育」出現了大谷翔平、球員、比賽相關字。"
   ]
  },
  {
   "cell_type": "markdown",
   "metadata": {},
   "source": [
    "### 6. 預測新聞類別"
   ]
  },
  {
   "cell_type": "markdown",
   "metadata": {},
   "source": [
    "udn_news.csv 為聯合新聞資料\n",
    "\n",
    "- 版別：全球、股市、兩岸、運動\n",
    "- 時間範圍：2024/03/01 ~ 2024/04/04\n",
    "- 工作流程平台搜尋/排除關鍵字：無"
   ]
  },
  {
   "cell_type": "code",
   "execution_count": 85,
   "metadata": {},
   "outputs": [
    {
     "data": {
      "text/html": [
       "<div>\n",
       "<style scoped>\n",
       "    .dataframe tbody tr th:only-of-type {\n",
       "        vertical-align: middle;\n",
       "    }\n",
       "\n",
       "    .dataframe tbody tr th {\n",
       "        vertical-align: top;\n",
       "    }\n",
       "\n",
       "    .dataframe thead th {\n",
       "        text-align: right;\n",
       "    }\n",
       "</style>\n",
       "<table border=\"1\" class=\"dataframe\">\n",
       "  <thead>\n",
       "    <tr style=\"text-align: right;\">\n",
       "      <th></th>\n",
       "      <th>system_id</th>\n",
       "      <th>artTitle</th>\n",
       "      <th>artDate</th>\n",
       "      <th>artCatagory</th>\n",
       "      <th>artUrl</th>\n",
       "      <th>artContent</th>\n",
       "      <th>dataSource</th>\n",
       "    </tr>\n",
       "  </thead>\n",
       "  <tbody>\n",
       "    <tr>\n",
       "      <th>0</th>\n",
       "      <td>1</td>\n",
       "      <td>MLB／曾說「不是朋友」成真 大谷翔平解除追蹤水原一平</td>\n",
       "      <td>2024/3/21 9:56</td>\n",
       "      <td>運動</td>\n",
       "      <td>https://udn.com/news/story/11247/7845714</td>\n",
       "      <td>曾經是形影不離的戰友，大谷翔平與水原一平如今因金錢關係成為陌生人，大谷翔平的個人社群也解除對...</td>\n",
       "      <td>UDN</td>\n",
       "    </tr>\n",
       "    <tr>\n",
       "      <th>1</th>\n",
       "      <td>2</td>\n",
       "      <td>MLB／水原一平涉賭被解僱 日本網友震驚「巨大背叛」</td>\n",
       "      <td>2024/3/21 10:28</td>\n",
       "      <td>運動</td>\n",
       "      <td>https://udn.com/news/story/11247/7845808</td>\n",
       "      <td>日本棒球明星大谷翔平的翻譯水原一平傳出涉嫌竊取數百萬美元非法簽賭，已遭洛杉磯道奇解雇。大谷轉...</td>\n",
       "      <td>UDN</td>\n",
       "    </tr>\n",
       "    <tr>\n",
       "      <th>2</th>\n",
       "      <td>3</td>\n",
       "      <td>MLB／偷大谷翔平的錢還賭債！水原一平IG被球迷灌爆：你搞屁啊</td>\n",
       "      <td>2024/3/21 10:36</td>\n",
       "      <td>運動</td>\n",
       "      <td>https://udn.com/news/story/11247/7845856</td>\n",
       "      <td>美國職棒大聯盟（MLB）球星大谷翔平的隨行翻譯水原一平，因涉嫌竊取大谷至少450萬美元進行非...</td>\n",
       "      <td>UDN</td>\n",
       "    </tr>\n",
       "    <tr>\n",
       "      <th>3</th>\n",
       "      <td>4</td>\n",
       "      <td>MLB／國內球評看水原一平醜聞 形容「比大谷結婚令人震撼」</td>\n",
       "      <td>2024/3/21 10:56</td>\n",
       "      <td>運動</td>\n",
       "      <td>https://udn.com/news/story/11247/7845919</td>\n",
       "      <td>道奇、教士隊在南韓首爾進行新球季第2場比賽前，大谷翔平的翻譯水原一平遭球團開除，一位美職賽事...</td>\n",
       "      <td>UDN</td>\n",
       "    </tr>\n",
       "    <tr>\n",
       "      <th>4</th>\n",
       "      <td>5</td>\n",
       "      <td>MLB／大谷翔平恐受牽連？水原一平稱他曾代為轉帳償還賭債後才改口</td>\n",
       "      <td>2024/3/21 12:13</td>\n",
       "      <td>運動</td>\n",
       "      <td>https://udn.com/news/story/11247/7846177</td>\n",
       "      <td>美國職棒大聯盟明星大谷翔平的翻譯水原一平傳出涉賭，遭球隊解僱。水原美國時間19日接受ESPN...</td>\n",
       "      <td>UDN</td>\n",
       "    </tr>\n",
       "    <tr>\n",
       "      <th>...</th>\n",
       "      <td>...</td>\n",
       "      <td>...</td>\n",
       "      <td>...</td>\n",
       "      <td>...</td>\n",
       "      <td>...</td>\n",
       "      <td>...</td>\n",
       "      <td>...</td>\n",
       "    </tr>\n",
       "    <tr>\n",
       "      <th>6453</th>\n",
       "      <td>6454</td>\n",
       "      <td>中獎慘劇！她中了3200萬大獎…彩票放口袋 家人「1動作」發財夢碎</td>\n",
       "      <td>2024/4/3 9:07</td>\n",
       "      <td>兩岸</td>\n",
       "      <td>https://udn.com/news/story/7335/7873960</td>\n",
       "      <td>數百萬獎金擦身而過！大陸有女子用10人民幣（約43元新台幣）買了張彩票，之後隨手將之放入口袋...</td>\n",
       "      <td>UDN</td>\n",
       "    </tr>\n",
       "    <tr>\n",
       "      <th>6454</th>\n",
       "      <td>6455</td>\n",
       "      <td>北大畢業人妻 擺攤賣手串月入21萬 「只是副業而已」</td>\n",
       "      <td>2024/4/3 20:30</td>\n",
       "      <td>兩岸</td>\n",
       "      <td>https://udn.com/news/story/7335/7875052</td>\n",
       "      <td>北大畢業、80後女孩月川靠著擺攤賣手串月入5萬元（人民幣，下同，約新台幣21萬元），引發網友...</td>\n",
       "      <td>UDN</td>\n",
       "    </tr>\n",
       "    <tr>\n",
       "      <th>6455</th>\n",
       "      <td>6456</td>\n",
       "      <td>初中畢鍋爐工 寫萬餘篇文章剖析「紅學」賺200萬</td>\n",
       "      <td>2024/4/3 14:22</td>\n",
       "      <td>兩岸</td>\n",
       "      <td>https://udn.com/news/story/7335/7875053</td>\n",
       "      <td>人生際遇難以預測，吉林省男子胡長遠，少年時因家逢變故、父親早死，輟學做苦力，僅有初中文憑的他...</td>\n",
       "      <td>UDN</td>\n",
       "    </tr>\n",
       "    <tr>\n",
       "      <th>6456</th>\n",
       "      <td>6457</td>\n",
       "      <td>裸女馬路大暴走片瘋傳！脫光衣服躺路中 驚揭心酸內情</td>\n",
       "      <td>2024/4/4 8:04</td>\n",
       "      <td>兩岸</td>\n",
       "      <td>https://udn.com/news/story/7335/7876986</td>\n",
       "      <td>全裸躺馬路中心，到底所為何事？大陸網絡近日瘋傳1段「裸女馬路暴走」影片，見到山西1條公路上，...</td>\n",
       "      <td>UDN</td>\n",
       "    </tr>\n",
       "    <tr>\n",
       "      <th>6457</th>\n",
       "      <td>6458</td>\n",
       "      <td>情侶霸佔育嬰室「內傳奇怪聲音」媽急哺乳開門 男生持1物網喊絕了</td>\n",
       "      <td>2024/4/4 8:33</td>\n",
       "      <td>兩岸</td>\n",
       "      <td>https://udn.com/news/story/7335/7877011</td>\n",
       "      <td>不少商場都設有母嬰室供母親為幼兒哺乳或更換尿片。近日江蘇有1名母親帶著嬰兒在商場等候使用育嬰...</td>\n",
       "      <td>UDN</td>\n",
       "    </tr>\n",
       "  </tbody>\n",
       "</table>\n",
       "<p>6458 rows × 7 columns</p>\n",
       "</div>"
      ],
      "text/plain": [
       "      system_id                           artTitle          artDate  \\\n",
       "0             1        MLB／曾說「不是朋友」成真 大谷翔平解除追蹤水原一平   2024/3/21 9:56   \n",
       "1             2         MLB／水原一平涉賭被解僱 日本網友震驚「巨大背叛」  2024/3/21 10:28   \n",
       "2             3    MLB／偷大谷翔平的錢還賭債！水原一平IG被球迷灌爆：你搞屁啊  2024/3/21 10:36   \n",
       "3             4      MLB／國內球評看水原一平醜聞 形容「比大谷結婚令人震撼」  2024/3/21 10:56   \n",
       "4             5   MLB／大谷翔平恐受牽連？水原一平稱他曾代為轉帳償還賭債後才改口  2024/3/21 12:13   \n",
       "...         ...                                ...              ...   \n",
       "6453       6454  中獎慘劇！她中了3200萬大獎…彩票放口袋 家人「1動作」發財夢碎    2024/4/3 9:07   \n",
       "6454       6455         北大畢業人妻 擺攤賣手串月入21萬 「只是副業而已」   2024/4/3 20:30   \n",
       "6455       6456           初中畢鍋爐工 寫萬餘篇文章剖析「紅學」賺200萬   2024/4/3 14:22   \n",
       "6456       6457          裸女馬路大暴走片瘋傳！脫光衣服躺路中 驚揭心酸內情    2024/4/4 8:04   \n",
       "6457       6458    情侶霸佔育嬰室「內傳奇怪聲音」媽急哺乳開門 男生持1物網喊絕了    2024/4/4 8:33   \n",
       "\n",
       "     artCatagory                                    artUrl  \\\n",
       "0             運動  https://udn.com/news/story/11247/7845714   \n",
       "1             運動  https://udn.com/news/story/11247/7845808   \n",
       "2             運動  https://udn.com/news/story/11247/7845856   \n",
       "3             運動  https://udn.com/news/story/11247/7845919   \n",
       "4             運動  https://udn.com/news/story/11247/7846177   \n",
       "...          ...                                       ...   \n",
       "6453          兩岸   https://udn.com/news/story/7335/7873960   \n",
       "6454          兩岸   https://udn.com/news/story/7335/7875052   \n",
       "6455          兩岸   https://udn.com/news/story/7335/7875053   \n",
       "6456          兩岸   https://udn.com/news/story/7335/7876986   \n",
       "6457          兩岸   https://udn.com/news/story/7335/7877011   \n",
       "\n",
       "                                             artContent dataSource  \n",
       "0     曾經是形影不離的戰友，大谷翔平與水原一平如今因金錢關係成為陌生人，大谷翔平的個人社群也解除對...        UDN  \n",
       "1     日本棒球明星大谷翔平的翻譯水原一平傳出涉嫌竊取數百萬美元非法簽賭，已遭洛杉磯道奇解雇。大谷轉...        UDN  \n",
       "2     美國職棒大聯盟（MLB）球星大谷翔平的隨行翻譯水原一平，因涉嫌竊取大谷至少450萬美元進行非...        UDN  \n",
       "3     道奇、教士隊在南韓首爾進行新球季第2場比賽前，大谷翔平的翻譯水原一平遭球團開除，一位美職賽事...        UDN  \n",
       "4     美國職棒大聯盟明星大谷翔平的翻譯水原一平傳出涉賭，遭球隊解僱。水原美國時間19日接受ESPN...        UDN  \n",
       "...                                                 ...        ...  \n",
       "6453  數百萬獎金擦身而過！大陸有女子用10人民幣（約43元新台幣）買了張彩票，之後隨手將之放入口袋...        UDN  \n",
       "6454  北大畢業、80後女孩月川靠著擺攤賣手串月入5萬元（人民幣，下同，約新台幣21萬元），引發網友...        UDN  \n",
       "6455  人生際遇難以預測，吉林省男子胡長遠，少年時因家逢變故、父親早死，輟學做苦力，僅有初中文憑的他...        UDN  \n",
       "6456  全裸躺馬路中心，到底所為何事？大陸網絡近日瘋傳1段「裸女馬路暴走」影片，見到山西1條公路上，...        UDN  \n",
       "6457  不少商場都設有母嬰室供母親為幼兒哺乳或更換尿片。近日江蘇有1名母親帶著嬰兒在商場等候使用育嬰...        UDN  \n",
       "\n",
       "[6458 rows x 7 columns]"
      ]
     },
     "execution_count": 85,
     "metadata": {},
     "output_type": "execute_result"
    }
   ],
   "source": [
    "udn = pd.read_csv(\"./raw_data/udn_news.csv\")\n",
    "udn.dropna(inplace=True)\n",
    "udn"
   ]
  },
  {
   "cell_type": "code",
   "execution_count": 86,
   "metadata": {},
   "outputs": [
    {
     "name": "stdout",
     "output_type": "stream",
     "text": [
      "number of posts: 6458\n",
      "date range: ('2024/3/17 0:38', '2024/4/4 9:46')\n",
      "category: \n",
      "artCatagory\n",
      "全球    2364\n",
      "股市    1608\n",
      "兩岸    1338\n",
      "運動    1148\n",
      "Name: count, dtype: int64\n"
     ]
    }
   ],
   "source": [
    "# 看看有幾篇文章\n",
    "print(f\"number of posts: {udn.shape[0]}\")\n",
    "print(f\"date range: {(udn['artDate'].min(), udn['artDate'].max())}\")\n",
    "print(f\"category: \\n{udn['artCatagory'].value_counts()}\")"
   ]
  },
  {
   "cell_type": "code",
   "execution_count": 87,
   "metadata": {},
   "outputs": [],
   "source": [
    "# 移除網址格式\n",
    "udn[\"artContent\"].str.replace(\"(http|https)://.*\", \"\", regex=True)\n",
    "udn[\"artTitle\"].str.replace(\"(http|https)://.*\", \"\", regex=True)\n",
    "udn[\"artContent\"].str.replace(\"[^\\u4e00-\\u9fa5]+\", \"\", regex=True)\n",
    "udn[\"artTitle\"].str.replace(\"[^\\u4e00-\\u9fa5]+\", \"\", regex=True)\n",
    "\n",
    "# 留下 content\n",
    "udn[\"content\"] = udn[\"artTitle\"] +udn[\"artContent\"]\n",
    "udn = udn.loc[:,[\"content\", \"artUrl\", \"artCatagory\"]]  # 文章內容 文章連結\n"
   ]
  },
  {
   "cell_type": "code",
   "execution_count": 88,
   "metadata": {},
   "outputs": [],
   "source": [
    "# 設定斷詞 function\n",
    "def getToken(row):\n",
    "    seg_list = jieba.cut(row, cut_all=False)\n",
    "    seg_list = [\n",
    "        w for w in seg_list if w not in stopWords and len(w) > 1\n",
    "    ]  # 篩選掉停用字與字元數大於1的詞彙\n",
    "    return seg_list"
   ]
  },
  {
   "cell_type": "code",
   "execution_count": 89,
   "metadata": {},
   "outputs": [
    {
     "data": {
      "text/html": [
       "<div>\n",
       "<style scoped>\n",
       "    .dataframe tbody tr th:only-of-type {\n",
       "        vertical-align: middle;\n",
       "    }\n",
       "\n",
       "    .dataframe tbody tr th {\n",
       "        vertical-align: top;\n",
       "    }\n",
       "\n",
       "    .dataframe thead th {\n",
       "        text-align: right;\n",
       "    }\n",
       "</style>\n",
       "<table border=\"1\" class=\"dataframe\">\n",
       "  <thead>\n",
       "    <tr style=\"text-align: right;\">\n",
       "      <th></th>\n",
       "      <th>content</th>\n",
       "      <th>artUrl</th>\n",
       "      <th>artCatagory</th>\n",
       "      <th>words</th>\n",
       "    </tr>\n",
       "  </thead>\n",
       "  <tbody>\n",
       "    <tr>\n",
       "      <th>0</th>\n",
       "      <td>MLB／曾說「不是朋友」成真 大谷翔平解除追蹤水原一平曾經是形影不離的戰友，大谷翔平與水原一...</td>\n",
       "      <td>https://udn.com/news/story/11247/7845714</td>\n",
       "      <td>運動</td>\n",
       "      <td>MLB 朋友 成真 大谷翔平 解除 追蹤 水原 一平 曾經 形影不離 戰友 大谷翔平 水原 ...</td>\n",
       "    </tr>\n",
       "    <tr>\n",
       "      <th>1</th>\n",
       "      <td>MLB／水原一平涉賭被解僱 日本網友震驚「巨大背叛」日本棒球明星大谷翔平的翻譯水原一平傳出涉...</td>\n",
       "      <td>https://udn.com/news/story/11247/7845808</td>\n",
       "      <td>運動</td>\n",
       "      <td>MLB 水原 一平 涉賭 解僱 日本 網友 震驚 巨大 背叛 日本 棒球 明星 大谷翔平 翻...</td>\n",
       "    </tr>\n",
       "    <tr>\n",
       "      <th>2</th>\n",
       "      <td>MLB／偷大谷翔平的錢還賭債！水原一平IG被球迷灌爆：你搞屁啊美國職棒大聯盟（MLB）球星大...</td>\n",
       "      <td>https://udn.com/news/story/11247/7845856</td>\n",
       "      <td>運動</td>\n",
       "      <td>MLB 大谷翔平 錢還 賭債 水原 一平 IG 球迷 灌爆 美國 職棒 大聯盟 MLB 球星...</td>\n",
       "    </tr>\n",
       "    <tr>\n",
       "      <th>3</th>\n",
       "      <td>MLB／國內球評看水原一平醜聞 形容「比大谷結婚令人震撼」道奇、教士隊在南韓首爾進行新球季第...</td>\n",
       "      <td>https://udn.com/news/story/11247/7845919</td>\n",
       "      <td>運動</td>\n",
       "      <td>MLB 國內 球評 水原 一平 醜聞 形容 大谷 結婚 震撼 道奇 教士隊 南韓 首爾 進行...</td>\n",
       "    </tr>\n",
       "    <tr>\n",
       "      <th>4</th>\n",
       "      <td>MLB／大谷翔平恐受牽連？水原一平稱他曾代為轉帳償還賭債後才改口美國職棒大聯盟明星大谷翔平的...</td>\n",
       "      <td>https://udn.com/news/story/11247/7846177</td>\n",
       "      <td>運動</td>\n",
       "      <td>MLB 大谷翔平 恐受 牽連 水原 一平稱 代為 轉帳 償還 賭債 改口 美國 職棒 大聯盟...</td>\n",
       "    </tr>\n",
       "  </tbody>\n",
       "</table>\n",
       "</div>"
      ],
      "text/plain": [
       "                                             content  \\\n",
       "0  MLB／曾說「不是朋友」成真 大谷翔平解除追蹤水原一平曾經是形影不離的戰友，大谷翔平與水原一...   \n",
       "1  MLB／水原一平涉賭被解僱 日本網友震驚「巨大背叛」日本棒球明星大谷翔平的翻譯水原一平傳出涉...   \n",
       "2  MLB／偷大谷翔平的錢還賭債！水原一平IG被球迷灌爆：你搞屁啊美國職棒大聯盟（MLB）球星大...   \n",
       "3  MLB／國內球評看水原一平醜聞 形容「比大谷結婚令人震撼」道奇、教士隊在南韓首爾進行新球季第...   \n",
       "4  MLB／大谷翔平恐受牽連？水原一平稱他曾代為轉帳償還賭債後才改口美國職棒大聯盟明星大谷翔平的...   \n",
       "\n",
       "                                     artUrl artCatagory  \\\n",
       "0  https://udn.com/news/story/11247/7845714          運動   \n",
       "1  https://udn.com/news/story/11247/7845808          運動   \n",
       "2  https://udn.com/news/story/11247/7845856          運動   \n",
       "3  https://udn.com/news/story/11247/7845919          運動   \n",
       "4  https://udn.com/news/story/11247/7846177          運動   \n",
       "\n",
       "                                               words  \n",
       "0  MLB 朋友 成真 大谷翔平 解除 追蹤 水原 一平 曾經 形影不離 戰友 大谷翔平 水原 ...  \n",
       "1  MLB 水原 一平 涉賭 解僱 日本 網友 震驚 巨大 背叛 日本 棒球 明星 大谷翔平 翻...  \n",
       "2  MLB 大谷翔平 錢還 賭債 水原 一平 IG 球迷 灌爆 美國 職棒 大聯盟 MLB 球星...  \n",
       "3  MLB 國內 球評 水原 一平 醜聞 形容 大谷 結婚 震撼 道奇 教士隊 南韓 首爾 進行...  \n",
       "4  MLB 大谷翔平 恐受 牽連 水原 一平稱 代為 轉帳 償還 賭債 改口 美國 職棒 大聯盟...  "
      ]
     },
     "execution_count": 89,
     "metadata": {},
     "output_type": "execute_result"
    }
   ],
   "source": [
    "udn[\"words\"] = udn[\"content\"].apply(getToken).map(\" \".join)\n",
    "udn.head()"
   ]
  },
  {
   "cell_type": "code",
   "execution_count": 90,
   "metadata": {},
   "outputs": [
    {
     "data": {
      "text/plain": [
       "artCatagory\n",
       "全球    2364\n",
       "股市    1608\n",
       "兩岸    1338\n",
       "運動    1148\n",
       "Name: count, dtype: int64"
      ]
     },
     "execution_count": 90,
     "metadata": {},
     "output_type": "execute_result"
    }
   ],
   "source": [
    "udn['artCatagory'].value_counts()"
   ]
  },
  {
   "cell_type": "code",
   "execution_count": 91,
   "metadata": {},
   "outputs": [],
   "source": [
    "mapper = {\"股市\":\"財經\",\"運動\":\"體育\",\"兩岸\": \"政治\", \"全球\":\"國際\"}\n",
    "udn['artCatagory'] = udn['artCatagory'].map(mapper)"
   ]
  },
  {
   "cell_type": "code",
   "execution_count": 92,
   "metadata": {},
   "outputs": [],
   "source": [
    "X =udn['words']\n",
    "y =udn['artCatagory']"
   ]
  },
  {
   "cell_type": "code",
   "execution_count": 93,
   "metadata": {},
   "outputs": [
    {
     "name": "stdout",
     "output_type": "stream",
     "text": [
      "              precision    recall  f1-score   support\n",
      "\n",
      "          國際       0.54      0.87      0.66      2364\n",
      "          政治       0.36      0.02      0.04      1338\n",
      "          財經       0.80      0.76      0.78      1608\n",
      "          體育       0.99      0.85      0.92      1148\n",
      "\n",
      "    accuracy                           0.67      6458\n",
      "   macro avg       0.67      0.63      0.60      6458\n",
      "weighted avg       0.64      0.67      0.61      6458\n",
      "\n"
     ]
    }
   ],
   "source": [
    "y_pred = model_set[best_model_name].predict(vectorizer.transform(X).toarray())\n",
    "print(classification_report(y, y_pred))"
   ]
  },
  {
   "cell_type": "code",
   "execution_count": 96,
   "metadata": {},
   "outputs": [
    {
     "data": {
      "text/html": [
       "<div>\n",
       "<style scoped>\n",
       "    .dataframe tbody tr th:only-of-type {\n",
       "        vertical-align: middle;\n",
       "    }\n",
       "\n",
       "    .dataframe tbody tr th {\n",
       "        vertical-align: top;\n",
       "    }\n",
       "\n",
       "    .dataframe thead th {\n",
       "        text-align: right;\n",
       "    }\n",
       "</style>\n",
       "<table border=\"1\" class=\"dataframe\">\n",
       "  <thead>\n",
       "    <tr style=\"text-align: right;\">\n",
       "      <th></th>\n",
       "      <th>words</th>\n",
       "      <th>artCatagory</th>\n",
       "      <th>pred</th>\n",
       "    </tr>\n",
       "  </thead>\n",
       "  <tbody>\n",
       "    <tr>\n",
       "      <th>0</th>\n",
       "      <td>MLB 朋友 成真 大谷翔平 解除 追蹤 水原 一平 曾經 形影不離 戰友 大谷翔平 水原 ...</td>\n",
       "      <td>體育</td>\n",
       "      <td>體育</td>\n",
       "    </tr>\n",
       "    <tr>\n",
       "      <th>1</th>\n",
       "      <td>MLB 水原 一平 涉賭 解僱 日本 網友 震驚 巨大 背叛 日本 棒球 明星 大谷翔平 翻...</td>\n",
       "      <td>體育</td>\n",
       "      <td>體育</td>\n",
       "    </tr>\n",
       "    <tr>\n",
       "      <th>2</th>\n",
       "      <td>MLB 大谷翔平 錢還 賭債 水原 一平 IG 球迷 灌爆 美國 職棒 大聯盟 MLB 球星...</td>\n",
       "      <td>體育</td>\n",
       "      <td>體育</td>\n",
       "    </tr>\n",
       "    <tr>\n",
       "      <th>3</th>\n",
       "      <td>MLB 國內 球評 水原 一平 醜聞 形容 大谷 結婚 震撼 道奇 教士隊 南韓 首爾 進行...</td>\n",
       "      <td>體育</td>\n",
       "      <td>體育</td>\n",
       "    </tr>\n",
       "    <tr>\n",
       "      <th>4</th>\n",
       "      <td>MLB 大谷翔平 恐受 牽連 水原 一平稱 代為 轉帳 償還 賭債 改口 美國 職棒 大聯盟...</td>\n",
       "      <td>體育</td>\n",
       "      <td>體育</td>\n",
       "    </tr>\n",
       "    <tr>\n",
       "      <th>...</th>\n",
       "      <td>...</td>\n",
       "      <td>...</td>\n",
       "      <td>...</td>\n",
       "    </tr>\n",
       "    <tr>\n",
       "      <th>6453</th>\n",
       "      <td>中獎 慘劇 3200 萬大 彩票 口袋 家人 動作 發財 夢碎 數百 獎金 擦身而過 大陸 ...</td>\n",
       "      <td>政治</td>\n",
       "      <td>國際</td>\n",
       "    </tr>\n",
       "    <tr>\n",
       "      <th>6454</th>\n",
       "      <td>北大 畢業 人妻 攤賣 手串 月入 21 副業 北大 畢業 80 女孩 月川靠 攤賣 手串 ...</td>\n",
       "      <td>政治</td>\n",
       "      <td>國際</td>\n",
       "    </tr>\n",
       "    <tr>\n",
       "      <th>6455</th>\n",
       "      <td>初中 鍋爐 萬餘篇 文章 剖析 紅學 200 人生 際遇 難以 預測 吉林省 男子 長遠 少...</td>\n",
       "      <td>政治</td>\n",
       "      <td>國際</td>\n",
       "    </tr>\n",
       "    <tr>\n",
       "      <th>6456</th>\n",
       "      <td>裸女 馬路 暴走 瘋傳 脫光 衣服 心酸 內情 全裸 躺馬路 中心 大陸 網絡 近日 瘋傳 ...</td>\n",
       "      <td>政治</td>\n",
       "      <td>國際</td>\n",
       "    </tr>\n",
       "    <tr>\n",
       "      <th>6457</th>\n",
       "      <td>情侶 霸佔 育嬰室 內傳 奇怪 聲音 媽急 哺乳 開門 男生 物網 喊絕 商場 設有 母嬰 ...</td>\n",
       "      <td>政治</td>\n",
       "      <td>國際</td>\n",
       "    </tr>\n",
       "  </tbody>\n",
       "</table>\n",
       "<p>6458 rows × 3 columns</p>\n",
       "</div>"
      ],
      "text/plain": [
       "                                                  words artCatagory pred\n",
       "0     MLB 朋友 成真 大谷翔平 解除 追蹤 水原 一平 曾經 形影不離 戰友 大谷翔平 水原 ...          體育   體育\n",
       "1     MLB 水原 一平 涉賭 解僱 日本 網友 震驚 巨大 背叛 日本 棒球 明星 大谷翔平 翻...          體育   體育\n",
       "2     MLB 大谷翔平 錢還 賭債 水原 一平 IG 球迷 灌爆 美國 職棒 大聯盟 MLB 球星...          體育   體育\n",
       "3     MLB 國內 球評 水原 一平 醜聞 形容 大谷 結婚 震撼 道奇 教士隊 南韓 首爾 進行...          體育   體育\n",
       "4     MLB 大谷翔平 恐受 牽連 水原 一平稱 代為 轉帳 償還 賭債 改口 美國 職棒 大聯盟...          體育   體育\n",
       "...                                                 ...         ...  ...\n",
       "6453  中獎 慘劇 3200 萬大 彩票 口袋 家人 動作 發財 夢碎 數百 獎金 擦身而過 大陸 ...          政治   國際\n",
       "6454  北大 畢業 人妻 攤賣 手串 月入 21 副業 北大 畢業 80 女孩 月川靠 攤賣 手串 ...          政治   國際\n",
       "6455  初中 鍋爐 萬餘篇 文章 剖析 紅學 200 人生 際遇 難以 預測 吉林省 男子 長遠 少...          政治   國際\n",
       "6456  裸女 馬路 暴走 瘋傳 脫光 衣服 心酸 內情 全裸 躺馬路 中心 大陸 網絡 近日 瘋傳 ...          政治   國際\n",
       "6457  情侶 霸佔 育嬰室 內傳 奇怪 聲音 媽急 哺乳 開門 男生 物網 喊絕 商場 設有 母嬰 ...          政治   國際\n",
       "\n",
       "[6458 rows x 3 columns]"
      ]
     },
     "execution_count": 96,
     "metadata": {},
     "output_type": "execute_result"
    }
   ],
   "source": [
    "udn['pred'] = y_pred\n",
    "udn.loc[:,['words', 'artCatagory',\"pred\"]]"
   ]
  },
  {
   "cell_type": "code",
   "execution_count": 97,
   "metadata": {},
   "outputs": [
    {
     "data": {
      "text/html": [
       "<div>\n",
       "<style scoped>\n",
       "    .dataframe tbody tr th:only-of-type {\n",
       "        vertical-align: middle;\n",
       "    }\n",
       "\n",
       "    .dataframe tbody tr th {\n",
       "        vertical-align: top;\n",
       "    }\n",
       "\n",
       "    .dataframe thead th {\n",
       "        text-align: right;\n",
       "    }\n",
       "</style>\n",
       "<table border=\"1\" class=\"dataframe\">\n",
       "  <thead>\n",
       "    <tr style=\"text-align: right;\">\n",
       "      <th></th>\n",
       "      <th>words</th>\n",
       "      <th>artCatagory</th>\n",
       "      <th>pred</th>\n",
       "    </tr>\n",
       "  </thead>\n",
       "  <tbody>\n",
       "    <tr>\n",
       "      <th>115</th>\n",
       "      <td>MLB 塞揚 強投 奈爾 報價 20 球團 猶豫 希望 降價 日前 The Athletic...</td>\n",
       "      <td>體育</td>\n",
       "      <td>國際</td>\n",
       "    </tr>\n",
       "    <tr>\n",
       "      <th>125</th>\n",
       "      <td>MLB 塞揚 拿不到 奈爾 落腳 巨人 今年 逃脫 球季 開打 兩屆 塞揚 投手 奈爾 Bl...</td>\n",
       "      <td>體育</td>\n",
       "      <td>國際</td>\n",
       "    </tr>\n",
       "    <tr>\n",
       "      <th>129</th>\n",
       "      <td>MLB 洋基 一喜 一優 賈吉將 回歸 但勒梅 修恐 趕不上 開季 紐約 洋基隊 今日 傷兵...</td>\n",
       "      <td>體育</td>\n",
       "      <td>國際</td>\n",
       "    </tr>\n",
       "    <tr>\n",
       "      <th>233</th>\n",
       "      <td>MLB 金鶯 伯恩斯 11K 楚奧特 陽春砲 寫近 57 首見 紀錄 金鶯 主場 開幕戰 1...</td>\n",
       "      <td>體育</td>\n",
       "      <td>國際</td>\n",
       "    </tr>\n",
       "    <tr>\n",
       "      <th>234</th>\n",
       "      <td>MLB 響尾蛇 單局 14 卡洛 沒刷 洛磯 投手 防禦率 162 響尾蛇隊 開幕戰 主場 ...</td>\n",
       "      <td>體育</td>\n",
       "      <td>國際</td>\n",
       "    </tr>\n",
       "    <tr>\n",
       "      <th>...</th>\n",
       "      <td>...</td>\n",
       "      <td>...</td>\n",
       "      <td>...</td>\n",
       "    </tr>\n",
       "    <tr>\n",
       "      <th>6453</th>\n",
       "      <td>中獎 慘劇 3200 萬大 彩票 口袋 家人 動作 發財 夢碎 數百 獎金 擦身而過 大陸 ...</td>\n",
       "      <td>政治</td>\n",
       "      <td>國際</td>\n",
       "    </tr>\n",
       "    <tr>\n",
       "      <th>6454</th>\n",
       "      <td>北大 畢業 人妻 攤賣 手串 月入 21 副業 北大 畢業 80 女孩 月川靠 攤賣 手串 ...</td>\n",
       "      <td>政治</td>\n",
       "      <td>國際</td>\n",
       "    </tr>\n",
       "    <tr>\n",
       "      <th>6455</th>\n",
       "      <td>初中 鍋爐 萬餘篇 文章 剖析 紅學 200 人生 際遇 難以 預測 吉林省 男子 長遠 少...</td>\n",
       "      <td>政治</td>\n",
       "      <td>國際</td>\n",
       "    </tr>\n",
       "    <tr>\n",
       "      <th>6456</th>\n",
       "      <td>裸女 馬路 暴走 瘋傳 脫光 衣服 心酸 內情 全裸 躺馬路 中心 大陸 網絡 近日 瘋傳 ...</td>\n",
       "      <td>政治</td>\n",
       "      <td>國際</td>\n",
       "    </tr>\n",
       "    <tr>\n",
       "      <th>6457</th>\n",
       "      <td>情侶 霸佔 育嬰室 內傳 奇怪 聲音 媽急 哺乳 開門 男生 物網 喊絕 商場 設有 母嬰 ...</td>\n",
       "      <td>政治</td>\n",
       "      <td>國際</td>\n",
       "    </tr>\n",
       "  </tbody>\n",
       "</table>\n",
       "<p>2163 rows × 3 columns</p>\n",
       "</div>"
      ],
      "text/plain": [
       "                                                  words artCatagory pred\n",
       "115   MLB 塞揚 強投 奈爾 報價 20 球團 猶豫 希望 降價 日前 The Athletic...          體育   國際\n",
       "125   MLB 塞揚 拿不到 奈爾 落腳 巨人 今年 逃脫 球季 開打 兩屆 塞揚 投手 奈爾 Bl...          體育   國際\n",
       "129   MLB 洋基 一喜 一優 賈吉將 回歸 但勒梅 修恐 趕不上 開季 紐約 洋基隊 今日 傷兵...          體育   國際\n",
       "233   MLB 金鶯 伯恩斯 11K 楚奧特 陽春砲 寫近 57 首見 紀錄 金鶯 主場 開幕戰 1...          體育   國際\n",
       "234   MLB 響尾蛇 單局 14 卡洛 沒刷 洛磯 投手 防禦率 162 響尾蛇隊 開幕戰 主場 ...          體育   國際\n",
       "...                                                 ...         ...  ...\n",
       "6453  中獎 慘劇 3200 萬大 彩票 口袋 家人 動作 發財 夢碎 數百 獎金 擦身而過 大陸 ...          政治   國際\n",
       "6454  北大 畢業 人妻 攤賣 手串 月入 21 副業 北大 畢業 80 女孩 月川靠 攤賣 手串 ...          政治   國際\n",
       "6455  初中 鍋爐 萬餘篇 文章 剖析 紅學 200 人生 際遇 難以 預測 吉林省 男子 長遠 少...          政治   國際\n",
       "6456  裸女 馬路 暴走 瘋傳 脫光 衣服 心酸 內情 全裸 躺馬路 中心 大陸 網絡 近日 瘋傳 ...          政治   國際\n",
       "6457  情侶 霸佔 育嬰室 內傳 奇怪 聲音 媽急 哺乳 開門 男生 物網 喊絕 商場 設有 母嬰 ...          政治   國際\n",
       "\n",
       "[2163 rows x 3 columns]"
      ]
     },
     "execution_count": 97,
     "metadata": {},
     "output_type": "execute_result"
    }
   ],
   "source": [
    "false_pred = udn.query(\"artCatagory != pred\").loc[:,['words', 'artCatagory',\"pred\"]]\n",
    "false_pred"
   ]
  },
  {
   "cell_type": "code",
   "execution_count": 101,
   "metadata": {},
   "outputs": [
    {
     "data": {
      "text/html": [
       "<div>\n",
       "<style scoped>\n",
       "    .dataframe tbody tr th:only-of-type {\n",
       "        vertical-align: middle;\n",
       "    }\n",
       "\n",
       "    .dataframe tbody tr th {\n",
       "        vertical-align: top;\n",
       "    }\n",
       "\n",
       "    .dataframe thead th {\n",
       "        text-align: right;\n",
       "    }\n",
       "</style>\n",
       "<table border=\"1\" class=\"dataframe\">\n",
       "  <thead>\n",
       "    <tr style=\"text-align: right;\">\n",
       "      <th></th>\n",
       "      <th>words</th>\n",
       "      <th>artCatagory</th>\n",
       "      <th>pred</th>\n",
       "    </tr>\n",
       "  </thead>\n",
       "  <tbody>\n",
       "    <tr>\n",
       "      <th>5120</th>\n",
       "      <td>拜習 通話 學者 中方 對美 經貿 限制 發出 尖銳 訊號 中國 國家 主席 習近平 美國 ...</td>\n",
       "      <td>政治</td>\n",
       "      <td>國際</td>\n",
       "    </tr>\n",
       "    <tr>\n",
       "      <th>5121</th>\n",
       "      <td>拜登 通話 習近平 關切 TikTok 所有權 美國 總統 拜登 中國 領導人 習近平 通話...</td>\n",
       "      <td>政治</td>\n",
       "      <td>國際</td>\n",
       "    </tr>\n",
       "    <tr>\n",
       "      <th>5122</th>\n",
       "      <td>拜習 通話 背後 意義 定調 階段 中美 關係 學者 關鍵 訊息 中國 國家 主席 習近平 ...</td>\n",
       "      <td>政治</td>\n",
       "      <td>國際</td>\n",
       "    </tr>\n",
       "    <tr>\n",
       "      <th>5123</th>\n",
       "      <td>拜登 習近平 通話 分析 中美 科技 限制 經濟 爭端 分歧 加深 大陸 國家 主席 習近平...</td>\n",
       "      <td>政治</td>\n",
       "      <td>國際</td>\n",
       "    </tr>\n",
       "    <tr>\n",
       "      <th>5124</th>\n",
       "      <td>外交部 習近平 拜登 強調 美不應 介入 中菲 南海 之爭 大陸 外交部 發言人 汪文斌 表...</td>\n",
       "      <td>政治</td>\n",
       "      <td>國際</td>\n",
       "    </tr>\n",
       "    <tr>\n",
       "      <th>5125</th>\n",
       "      <td>拜習 熱線 葉倫 宣布 啟程 訪陸 美國 總統 拜登 中國 大陸 國家 主席 習近平 二日 ...</td>\n",
       "      <td>政治</td>\n",
       "      <td>國際</td>\n",
       "    </tr>\n",
       "    <tr>\n",
       "      <th>5126</th>\n",
       "      <td>葉倫 到訪 陸盼 經濟 穩定 拜習 二日 通話 大陸 官媒 央視 新聞 隨即 三日 一早 宣...</td>\n",
       "      <td>政治</td>\n",
       "      <td>國際</td>\n",
       "    </tr>\n",
       "    <tr>\n",
       "      <th>5127</th>\n",
       "      <td>轉述 說法 南海 香港 主權 美勿 介入 大陸 外交部 發言人 汪文斌 昨天 表示 二日 習...</td>\n",
       "      <td>政治</td>\n",
       "      <td>國際</td>\n",
       "    </tr>\n",
       "    <tr>\n",
       "      <th>5128</th>\n",
       "      <td>觀察 拜習 默契 不求 突破 只求 穩定 拜登 習近平 通話 內容 凸顯 不求 突破 只求 ...</td>\n",
       "      <td>政治</td>\n",
       "      <td>國際</td>\n",
       "    </tr>\n",
       "    <tr>\n",
       "      <th>5130</th>\n",
       "      <td>兩岸 觀策 消費 降級 粉紅 愛國 降級 最近 中國 大陸 熱門 話題 台灣 電影 周處 三...</td>\n",
       "      <td>政治</td>\n",
       "      <td>國際</td>\n",
       "    </tr>\n",
       "    <tr>\n",
       "      <th>5131</th>\n",
       "      <td>王毅 紐澳 葡萄酒 關稅 焦點 中國 大陸 外長 王毅 今天 出訪 紐西蘭 澳洲 期間 澳洲...</td>\n",
       "      <td>政治</td>\n",
       "      <td>國際</td>\n",
       "    </tr>\n",
       "    <tr>\n",
       "      <th>5132</th>\n",
       "      <td>海警船 駛入 我禁 限制 水域 海巡 艦艇 十六日 上午 進入 金門 水域 大陸 海警船 廣...</td>\n",
       "      <td>政治</td>\n",
       "      <td>國際</td>\n",
       "    </tr>\n",
       "    <tr>\n",
       "      <th>5133</th>\n",
       "      <td>習近平 訪法 俄烏 貿易 問題 彭博 新聞 報導 大陸 國家 主席 習近平 有望 五月 訪問...</td>\n",
       "      <td>政治</td>\n",
       "      <td>國際</td>\n",
       "    </tr>\n",
       "    <tr>\n",
       "      <th>5134</th>\n",
       "      <td>彭博 習近平 巴黎 慶祝 中法 建交 60 周年 彭博 新聞 報導 法國 總統 馬克宏 Em...</td>\n",
       "      <td>政治</td>\n",
       "      <td>國際</td>\n",
       "    </tr>\n",
       "    <tr>\n",
       "      <th>5135</th>\n",
       "      <td>中國海警 連闖 金門 水域 北京 施壓 台欲 改變 現狀 中國 海警船 連續 天航 入金 門...</td>\n",
       "      <td>政治</td>\n",
       "      <td>國際</td>\n",
       "    </tr>\n",
       "    <tr>\n",
       "      <th>5136</th>\n",
       "      <td>中植系 爆雷 官方 管採 刑事 強制 措施 大陸 大型 資產 管理 公司 中植系 集團 嚴重...</td>\n",
       "      <td>政治</td>\n",
       "      <td>國際</td>\n",
       "    </tr>\n",
       "    <tr>\n",
       "      <th>5137</th>\n",
       "      <td>回到 最初 陸駐 斐濟 大使 中斐 警務 合作 重回 正軌 去年 年初 太平洋 島國 斐濟 ...</td>\n",
       "      <td>政治</td>\n",
       "      <td>國際</td>\n",
       "    </tr>\n",
       "    <tr>\n",
       "      <th>5138</th>\n",
       "      <td>王毅 今訪 紐澳 中澳 關係 存在 若干 過去 障礙 大陸 外長 王毅 17 啟程 出訪 紐...</td>\n",
       "      <td>政治</td>\n",
       "      <td>國際</td>\n",
       "    </tr>\n",
       "    <tr>\n",
       "      <th>5140</th>\n",
       "      <td>美台 施壓 大陸 翼龍 10 無人機 穿越 台海 中共 解放軍 翼龍 10 無人機 13 台...</td>\n",
       "      <td>政治</td>\n",
       "      <td>國際</td>\n",
       "    </tr>\n",
       "    <tr>\n",
       "      <th>5141</th>\n",
       "      <td>蘇起 美國 戰略 蘇起 台北 論壇 董事長 國安會 秘書長 關係 當前 全球 重要 雙邊 關...</td>\n",
       "      <td>政治</td>\n",
       "      <td>國際</td>\n",
       "    </tr>\n",
       "    <tr>\n",
       "      <th>5142</th>\n",
       "      <td>南海 諸島 列入 版圖 海關 扣留 批次 問題 印刷品 中菲 南海 爭端 不斷 情勢 持續 ...</td>\n",
       "      <td>政治</td>\n",
       "      <td>國際</td>\n",
       "    </tr>\n",
       "    <tr>\n",
       "      <th>5143</th>\n",
       "      <td>習近平 邀請 美國 華盛頓州 24 中學生 啟程 訪陸 促進 中美 交流 去年 11 中共 ...</td>\n",
       "      <td>政治</td>\n",
       "      <td>國際</td>\n",
       "    </tr>\n",
       "    <tr>\n",
       "      <th>5144</th>\n",
       "      <td>中國 大陸 海警船 闖禁 限制 水域 專家 複製 釣魚台 模式 中國 海警船 連續 擅闖 金...</td>\n",
       "      <td>政治</td>\n",
       "      <td>國際</td>\n",
       "    </tr>\n",
       "    <tr>\n",
       "      <th>5145</th>\n",
       "      <td>大陸 步步 逼近 海警 擅闖 金門 限制 水域 專家 台灣 有效 管轄 事實 喪失 中國 海...</td>\n",
       "      <td>政治</td>\n",
       "      <td>國際</td>\n",
       "    </tr>\n",
       "    <tr>\n",
       "      <th>5146</th>\n",
       "      <td>走向 太平洋 軍事 強國 大陸 升級 海軍 軍事 裝備 航母 恐向 遙遠 目標 瞄准 台灣 ...</td>\n",
       "      <td>政治</td>\n",
       "      <td>國際</td>\n",
       "    </tr>\n",
       "    <tr>\n",
       "      <th>5147</th>\n",
       "      <td>共軍 35 力壓 美軍 35 港媒 曝光 參數 專家 質疑 隱形 戰機 實戰 能力 港媒 近...</td>\n",
       "      <td>政治</td>\n",
       "      <td>國際</td>\n",
       "    </tr>\n",
       "    <tr>\n",
       "      <th>5148</th>\n",
       "      <td>新進展 大陸 鵲橋 二號 任務 星箭組 合體 轉運 發射 大陸 近年 持續 擴大 太空 發展...</td>\n",
       "      <td>政治</td>\n",
       "      <td>國際</td>\n",
       "    </tr>\n",
       "    <tr>\n",
       "      <th>5149</th>\n",
       "      <td>大陸 醫療 反腐 院士 65 骨科 專家 田偉 涉貪 消息 人士 標誌性 案件 中國 醫療 ...</td>\n",
       "      <td>政治</td>\n",
       "      <td>國際</td>\n",
       "    </tr>\n",
       "    <tr>\n",
       "      <th>5150</th>\n",
       "      <td>維持 現狀 不願戰 外媒 中國人 重視 國內 問題 更甚 統一 台灣 北京 當局 排除 動用...</td>\n",
       "      <td>政治</td>\n",
       "      <td>國際</td>\n",
       "    </tr>\n",
       "    <tr>\n",
       "      <th>5151</th>\n",
       "      <td>王毅 紐澳 人權 分歧 挑戰 中國 大陸 外交部長 王毅 昨天 啟程 出訪 紐西蘭 澳洲 成...</td>\n",
       "      <td>政治</td>\n",
       "      <td>國際</td>\n",
       "    </tr>\n",
       "    <tr>\n",
       "      <th>5152</th>\n",
       "      <td>金燦 陸第 航艦 常規 動力 中國 第四艘 航空母艦 採核 動力 引發 討論 對此 中國 大...</td>\n",
       "      <td>政治</td>\n",
       "      <td>國際</td>\n",
       "    </tr>\n",
       "    <tr>\n",
       "      <th>5153</th>\n",
       "      <td>醫療 反腐 首位 院士 骨科 專家 田偉 涉貪 帶走 嚇到 大小便 失禁 中國 醫療 反腐 ...</td>\n",
       "      <td>政治</td>\n",
       "      <td>國際</td>\n",
       "    </tr>\n",
       "    <tr>\n",
       "      <th>5154</th>\n",
       "      <td>火災 爆炸 塌樓 胡錫進 基層 惡性 事故 多前 環球 時報 總編輯 胡錫進 16 發文 一...</td>\n",
       "      <td>政治</td>\n",
       "      <td>國際</td>\n",
       "    </tr>\n",
       "    <tr>\n",
       "      <th>5155</th>\n",
       "      <td>親俄 山東 河北 黑龍江 中文 路牌 俄羅斯文 山東 河北 黑龍江 近期 出現 俄文 路標 ...</td>\n",
       "      <td>政治</td>\n",
       "      <td>國際</td>\n",
       "    </tr>\n",
       "    <tr>\n",
       "      <th>5156</th>\n",
       "      <td>福建 凌晨 救起 金門 出海 人員 上午 轉交 我方 大陸 中央 廣播 電視 旗下 信公眾號...</td>\n",
       "      <td>政治</td>\n",
       "      <td>國際</td>\n",
       "    </tr>\n",
       "    <tr>\n",
       "      <th>5157</th>\n",
       "      <td>普亭 台灣 中華 共和國 不可 分割 一部分 普亭 當選 俄羅斯 新一屆 總統 表示 繼續 ...</td>\n",
       "      <td>政治</td>\n",
       "      <td>國際</td>\n",
       "    </tr>\n",
       "    <tr>\n",
       "      <th>5158</th>\n",
       "      <td>全國 政協 委員 探索 台籍 教師 可享 編制 待遇 大陸 全國 政協 委員 廈門 大學 資...</td>\n",
       "      <td>政治</td>\n",
       "      <td>國際</td>\n",
       "    </tr>\n",
       "    <tr>\n",
       "      <th>5159</th>\n",
       "      <td>北京 書記 劉淇 大秘 錢色 交易 雙開 北京市 紀委 通報 中關村 發展 集團 股份 有限...</td>\n",
       "      <td>政治</td>\n",
       "      <td>國際</td>\n",
       "    </tr>\n",
       "    <tr>\n",
       "      <th>5160</th>\n",
       "      <td>使館 提醒 中國 公民 境外 合法 開設 賭場 觸法 信公眾號 中國 新加坡 大使館 領事 ...</td>\n",
       "      <td>政治</td>\n",
       "      <td>國際</td>\n",
       "    </tr>\n",
       "    <tr>\n",
       "      <th>5162</th>\n",
       "      <td>中國 外長 王毅 訪澳 官媒 有利於 打破 美對 圍堵 中共 中央 政治局 委員 中國 外交...</td>\n",
       "      <td>政治</td>\n",
       "      <td>國際</td>\n",
       "    </tr>\n",
       "    <tr>\n",
       "      <th>5163</th>\n",
       "      <td>南海 緊張 布林肯 訪韓 強化 聯盟 外媒 北京 戰狼 姿態 挑戰 中菲 南海 主權 摩擦 ...</td>\n",
       "      <td>政治</td>\n",
       "      <td>國際</td>\n",
       "    </tr>\n",
       "    <tr>\n",
       "      <th>5164</th>\n",
       "      <td>南海 諸島 列入 版圖 南寧 海關 查扣 問題 地圖 書籍 中菲 南海 爭端 不斷 情勢 持...</td>\n",
       "      <td>政治</td>\n",
       "      <td>國際</td>\n",
       "    </tr>\n",
       "    <tr>\n",
       "      <th>5165</th>\n",
       "      <td>金燦 航母 應是 常規 動力 解決 台灣 問題 綽綽有餘 中國 大陸 第四艘 航母 新一代 ...</td>\n",
       "      <td>政治</td>\n",
       "      <td>國際</td>\n",
       "    </tr>\n",
       "    <tr>\n",
       "      <th>5166</th>\n",
       "      <td>習近平 美國 青年 訪中 首批 24 中學生 啟程 華為 促進 中美 交流 去年 11 中共...</td>\n",
       "      <td>政治</td>\n",
       "      <td>國際</td>\n",
       "    </tr>\n",
       "    <tr>\n",
       "      <th>5167</th>\n",
       "      <td>兩會 國台辦 首場 涉台 座談會 強調 和平 統一 大陸 全國 兩會 閉幕 新華社 報導 中...</td>\n",
       "      <td>政治</td>\n",
       "      <td>國際</td>\n",
       "    </tr>\n",
       "    <tr>\n",
       "      <th>5168</th>\n",
       "      <td>鵲橋 二號 發射 廣東 海事局 20 禁止 進入 南海 海域 中國 海事局 官方 網站 18...</td>\n",
       "      <td>政治</td>\n",
       "      <td>國際</td>\n",
       "    </tr>\n",
       "    <tr>\n",
       "      <th>5169</th>\n",
       "      <td>博鰲 論壇 26 登場 詹火生 代表 兩岸 共同 市場 基金會 出席 視為 亞洲 地區 經濟...</td>\n",
       "      <td>政治</td>\n",
       "      <td>國際</td>\n",
       "    </tr>\n",
       "    <tr>\n",
       "      <th>5170</th>\n",
       "      <td>王毅 訪問 紐西蘭 強調 加強 兩國 戰略 溝通 大陸 外交部長 王毅 周一 訪問 紐西蘭 ...</td>\n",
       "      <td>政治</td>\n",
       "      <td>國際</td>\n",
       "    </tr>\n",
       "    <tr>\n",
       "      <th>5171</th>\n",
       "      <td>新疆 任職 大陸 外交部 新任 發言人 林劍 首度 亮相 大陸 外交部 新任 發言人 林劍 ...</td>\n",
       "      <td>政治</td>\n",
       "      <td>國際</td>\n",
       "    </tr>\n",
       "    <tr>\n",
       "      <th>5172</th>\n",
       "      <td>電影 湄公河 行動 原型 陸前 公安部 反恐 部級 躍進 落馬 中共 中央 紀委 國家 監委...</td>\n",
       "      <td>政治</td>\n",
       "      <td>國際</td>\n",
       "    </tr>\n",
       "  </tbody>\n",
       "</table>\n",
       "</div>"
      ],
      "text/plain": [
       "                                                  words artCatagory pred\n",
       "5120  拜習 通話 學者 中方 對美 經貿 限制 發出 尖銳 訊號 中國 國家 主席 習近平 美國 ...          政治   國際\n",
       "5121  拜登 通話 習近平 關切 TikTok 所有權 美國 總統 拜登 中國 領導人 習近平 通話...          政治   國際\n",
       "5122  拜習 通話 背後 意義 定調 階段 中美 關係 學者 關鍵 訊息 中國 國家 主席 習近平 ...          政治   國際\n",
       "5123  拜登 習近平 通話 分析 中美 科技 限制 經濟 爭端 分歧 加深 大陸 國家 主席 習近平...          政治   國際\n",
       "5124  外交部 習近平 拜登 強調 美不應 介入 中菲 南海 之爭 大陸 外交部 發言人 汪文斌 表...          政治   國際\n",
       "5125  拜習 熱線 葉倫 宣布 啟程 訪陸 美國 總統 拜登 中國 大陸 國家 主席 習近平 二日 ...          政治   國際\n",
       "5126  葉倫 到訪 陸盼 經濟 穩定 拜習 二日 通話 大陸 官媒 央視 新聞 隨即 三日 一早 宣...          政治   國際\n",
       "5127  轉述 說法 南海 香港 主權 美勿 介入 大陸 外交部 發言人 汪文斌 昨天 表示 二日 習...          政治   國際\n",
       "5128  觀察 拜習 默契 不求 突破 只求 穩定 拜登 習近平 通話 內容 凸顯 不求 突破 只求 ...          政治   國際\n",
       "5130  兩岸 觀策 消費 降級 粉紅 愛國 降級 最近 中國 大陸 熱門 話題 台灣 電影 周處 三...          政治   國際\n",
       "5131  王毅 紐澳 葡萄酒 關稅 焦點 中國 大陸 外長 王毅 今天 出訪 紐西蘭 澳洲 期間 澳洲...          政治   國際\n",
       "5132  海警船 駛入 我禁 限制 水域 海巡 艦艇 十六日 上午 進入 金門 水域 大陸 海警船 廣...          政治   國際\n",
       "5133  習近平 訪法 俄烏 貿易 問題 彭博 新聞 報導 大陸 國家 主席 習近平 有望 五月 訪問...          政治   國際\n",
       "5134  彭博 習近平 巴黎 慶祝 中法 建交 60 周年 彭博 新聞 報導 法國 總統 馬克宏 Em...          政治   國際\n",
       "5135  中國海警 連闖 金門 水域 北京 施壓 台欲 改變 現狀 中國 海警船 連續 天航 入金 門...          政治   國際\n",
       "5136  中植系 爆雷 官方 管採 刑事 強制 措施 大陸 大型 資產 管理 公司 中植系 集團 嚴重...          政治   國際\n",
       "5137  回到 最初 陸駐 斐濟 大使 中斐 警務 合作 重回 正軌 去年 年初 太平洋 島國 斐濟 ...          政治   國際\n",
       "5138  王毅 今訪 紐澳 中澳 關係 存在 若干 過去 障礙 大陸 外長 王毅 17 啟程 出訪 紐...          政治   國際\n",
       "5140  美台 施壓 大陸 翼龍 10 無人機 穿越 台海 中共 解放軍 翼龍 10 無人機 13 台...          政治   國際\n",
       "5141  蘇起 美國 戰略 蘇起 台北 論壇 董事長 國安會 秘書長 關係 當前 全球 重要 雙邊 關...          政治   國際\n",
       "5142  南海 諸島 列入 版圖 海關 扣留 批次 問題 印刷品 中菲 南海 爭端 不斷 情勢 持續 ...          政治   國際\n",
       "5143  習近平 邀請 美國 華盛頓州 24 中學生 啟程 訪陸 促進 中美 交流 去年 11 中共 ...          政治   國際\n",
       "5144  中國 大陸 海警船 闖禁 限制 水域 專家 複製 釣魚台 模式 中國 海警船 連續 擅闖 金...          政治   國際\n",
       "5145  大陸 步步 逼近 海警 擅闖 金門 限制 水域 專家 台灣 有效 管轄 事實 喪失 中國 海...          政治   國際\n",
       "5146  走向 太平洋 軍事 強國 大陸 升級 海軍 軍事 裝備 航母 恐向 遙遠 目標 瞄准 台灣 ...          政治   國際\n",
       "5147  共軍 35 力壓 美軍 35 港媒 曝光 參數 專家 質疑 隱形 戰機 實戰 能力 港媒 近...          政治   國際\n",
       "5148  新進展 大陸 鵲橋 二號 任務 星箭組 合體 轉運 發射 大陸 近年 持續 擴大 太空 發展...          政治   國際\n",
       "5149  大陸 醫療 反腐 院士 65 骨科 專家 田偉 涉貪 消息 人士 標誌性 案件 中國 醫療 ...          政治   國際\n",
       "5150  維持 現狀 不願戰 外媒 中國人 重視 國內 問題 更甚 統一 台灣 北京 當局 排除 動用...          政治   國際\n",
       "5151  王毅 紐澳 人權 分歧 挑戰 中國 大陸 外交部長 王毅 昨天 啟程 出訪 紐西蘭 澳洲 成...          政治   國際\n",
       "5152  金燦 陸第 航艦 常規 動力 中國 第四艘 航空母艦 採核 動力 引發 討論 對此 中國 大...          政治   國際\n",
       "5153  醫療 反腐 首位 院士 骨科 專家 田偉 涉貪 帶走 嚇到 大小便 失禁 中國 醫療 反腐 ...          政治   國際\n",
       "5154  火災 爆炸 塌樓 胡錫進 基層 惡性 事故 多前 環球 時報 總編輯 胡錫進 16 發文 一...          政治   國際\n",
       "5155  親俄 山東 河北 黑龍江 中文 路牌 俄羅斯文 山東 河北 黑龍江 近期 出現 俄文 路標 ...          政治   國際\n",
       "5156  福建 凌晨 救起 金門 出海 人員 上午 轉交 我方 大陸 中央 廣播 電視 旗下 信公眾號...          政治   國際\n",
       "5157  普亭 台灣 中華 共和國 不可 分割 一部分 普亭 當選 俄羅斯 新一屆 總統 表示 繼續 ...          政治   國際\n",
       "5158  全國 政協 委員 探索 台籍 教師 可享 編制 待遇 大陸 全國 政協 委員 廈門 大學 資...          政治   國際\n",
       "5159  北京 書記 劉淇 大秘 錢色 交易 雙開 北京市 紀委 通報 中關村 發展 集團 股份 有限...          政治   國際\n",
       "5160  使館 提醒 中國 公民 境外 合法 開設 賭場 觸法 信公眾號 中國 新加坡 大使館 領事 ...          政治   國際\n",
       "5162  中國 外長 王毅 訪澳 官媒 有利於 打破 美對 圍堵 中共 中央 政治局 委員 中國 外交...          政治   國際\n",
       "5163  南海 緊張 布林肯 訪韓 強化 聯盟 外媒 北京 戰狼 姿態 挑戰 中菲 南海 主權 摩擦 ...          政治   國際\n",
       "5164  南海 諸島 列入 版圖 南寧 海關 查扣 問題 地圖 書籍 中菲 南海 爭端 不斷 情勢 持...          政治   國際\n",
       "5165  金燦 航母 應是 常規 動力 解決 台灣 問題 綽綽有餘 中國 大陸 第四艘 航母 新一代 ...          政治   國際\n",
       "5166  習近平 美國 青年 訪中 首批 24 中學生 啟程 華為 促進 中美 交流 去年 11 中共...          政治   國際\n",
       "5167  兩會 國台辦 首場 涉台 座談會 強調 和平 統一 大陸 全國 兩會 閉幕 新華社 報導 中...          政治   國際\n",
       "5168  鵲橋 二號 發射 廣東 海事局 20 禁止 進入 南海 海域 中國 海事局 官方 網站 18...          政治   國際\n",
       "5169  博鰲 論壇 26 登場 詹火生 代表 兩岸 共同 市場 基金會 出席 視為 亞洲 地區 經濟...          政治   國際\n",
       "5170  王毅 訪問 紐西蘭 強調 加強 兩國 戰略 溝通 大陸 外交部長 王毅 周一 訪問 紐西蘭 ...          政治   國際\n",
       "5171  新疆 任職 大陸 外交部 新任 發言人 林劍 首度 亮相 大陸 外交部 新任 發言人 林劍 ...          政治   國際\n",
       "5172  電影 湄公河 行動 原型 陸前 公安部 反恐 部級 躍進 落馬 中共 中央 紀委 國家 監委...          政治   國際"
      ]
     },
     "execution_count": 101,
     "metadata": {},
     "output_type": "execute_result"
    }
   ],
   "source": [
    "false_pred.loc[false_pred['artCatagory']=='政治', :].head(50)"
   ]
  },
  {
   "cell_type": "code",
   "execution_count": 102,
   "metadata": {},
   "outputs": [
    {
     "data": {
      "text/plain": [
       "words          拜登 通話 習近平 關切 TikTok 所有權 美國 總統 拜登 中國 領導人 習近平 通話...\n",
       "artCatagory                                                   政治\n",
       "pred                                                          國際\n",
       "Name: 5121, dtype: object"
      ]
     },
     "execution_count": 102,
     "metadata": {},
     "output_type": "execute_result"
    }
   ],
   "source": [
    "false_pred.loc[5121, :]"
   ]
  },
  {
   "cell_type": "code",
   "execution_count": 103,
   "metadata": {},
   "outputs": [
    {
     "name": "stdout",
     "output_type": "stream",
     "text": [
      "拜登 通話 習近平 關切 TikTok 所有權 美國 總統 拜登 中國 領導人 習近平 通話 關切 台海 問題 關注 TikTok 所有權 問題 習近平 明確 表示 這不 禁止 這款 應用 軟體 有意 剝離 能夠 保護 國家 安全 利益 美國 數據 安全 美國 之音 報導 TikTok 中國 影片 分享 平台 抖音 海外版 母公司 中國 字節 跳動 西方 官員 TikTok 年輕人 流行 表示 擔心 指稱 聽命 北京 宣傳 管道 字節 跳動 北京 否認 指稱 上個 美國 國會 眾議院 壓倒性 多數 一項 法案 迫使 TikTok 字節 跳動 剝離 面臨 全國 範圍 禁令 拜登 支持 這項 努力 競選 陣營 轉向 TikTok 爭取 年輕 選民 兩位 領導人 進行 議題 範圍 廣泛 電話 交談 之後 國家 安全 委員會 發言人 約翰 科比 John Kirby 總統 重申 TikTok 所有權 關切 拜登 競選 對手 川普 封禁 TikTok 表示 不安 通常 樂於 譴責 中國\n"
     ]
    }
   ],
   "source": [
    "print(false_pred['words'][5121])"
   ]
  },
  {
   "cell_type": "markdown",
   "metadata": {},
   "source": [
    "從預測結果來看，「政治」這個版別常被預測為「國際」。從文章去看可以發現提到了「拜登」、「美國」、「中國 領導人 習近平」等等，這些關鍵詞彙可能造成預測錯誤的原因。這篇文章可能同時討論了兩岸關係和國際事務，使得模型難以區分這兩個類別！！"
   ]
  }
 ],
 "metadata": {
  "kernelspec": {
   "display_name": "Python 3",
   "language": "python",
   "name": "python3"
  },
  "language_info": {
   "codemirror_mode": {
    "name": "ipython",
    "version": 3
   },
   "file_extension": ".py",
   "mimetype": "text/x-python",
   "name": "python",
   "nbconvert_exporter": "python",
   "pygments_lexer": "ipython3",
   "version": "3.11.4"
  }
 },
 "nbformat": 4,
 "nbformat_minor": 2
}
